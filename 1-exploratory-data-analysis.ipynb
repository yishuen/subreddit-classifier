{
 "cells": [
  {
   "cell_type": "markdown",
   "metadata": {},
   "source": [
    "# Reddit Post Classifier: EDA"
   ]
  },
  {
   "cell_type": "code",
   "execution_count": 1,
   "metadata": {},
   "outputs": [],
   "source": [
    "import pandas as pd\n",
    "import pickle\n",
    "\n",
    "from sklearn.feature_extraction.text import TfidfVectorizer\n",
    "\n",
    "import nltk\n",
    "from nltk.corpus import stopwords\n",
    "from nltk.stem import WordNetLemmatizer\n",
    "wordnet_lemmatizer = WordNetLemmatizer()\n",
    "from sklearn.feature_extraction.text import CountVectorizer\n",
    "english = set(nltk.corpus.words.words())\n",
    "\n",
    "import plotly.express as px"
   ]
  },
  {
   "cell_type": "markdown",
   "metadata": {
    "heading_collapsed": true
   },
   "source": [
    "## 1. Getting Data"
   ]
  },
  {
   "cell_type": "markdown",
   "metadata": {
    "hidden": true
   },
   "source": [
    "We started with two tables of data from Kaggle: https://www.kaggle.com/mswarbrickjones/reddit-selfposts\n",
    "\n",
    "1. [table of 3394 subreddits, categorized]('data/subreddit_info.csv')\n",
    "2. [table of 1,033,000 text posts from 1,033 subreddits (1000 posts per subreddit)]('https://kaggle.com/mswarbrickjones/reddit-selfposts#rspct.tsv')\n",
    "\n",
    "All data is from 2016/06/01 to 2018/06/01."
   ]
  },
  {
   "cell_type": "markdown",
   "metadata": {
    "hidden": true
   },
   "source": [
    "### a. Getting the relevant subreddits"
   ]
  },
  {
   "cell_type": "code",
   "execution_count": null,
   "metadata": {
    "hidden": true
   },
   "outputs": [],
   "source": [
    "subreddits = pd.read_csv('data/subreddit_info.csv')\n",
    "subreddits.head()"
   ]
  },
  {
   "cell_type": "code",
   "execution_count": null,
   "metadata": {
    "hidden": true
   },
   "outputs": [],
   "source": [
    "# 1. keeping only subreddits that are 'in_data'\n",
    "subreddits = subreddits[subreddits['in_data'] == True]\n",
    "\n",
    "# 2. keeping only relevant columns\n",
    "subreddits = subreddits.drop(['reason_for_exclusion', 'category_2', 'category_3', 'in_data'], axis = 1)\n",
    "\n",
    "# 3. keeping only arts and programming subreddits\n",
    "arts = subreddits[subreddits['category_1']=='arts']\n",
    "programming = subreddits[subreddits['category_1']=='programming']"
   ]
  },
  {
   "cell_type": "markdown",
   "metadata": {
    "hidden": true
   },
   "source": [
    "### b. Getting the posts from relevant subreddits"
   ]
  },
  {
   "cell_type": "code",
   "execution_count": null,
   "metadata": {
    "hidden": true
   },
   "outputs": [],
   "source": [
    "# this tsv is available on kaggle, linked above\n",
    "\n",
    "# # 1. reading in the tsv\n",
    "# posts = pd.read_csv('rspct.tsv', sep='\\t')\n",
    "\n",
    "# # 2. getting lists of the relevant subreddits\n",
    "# arts_subreddit_list = list(arts['subreddit'])\n",
    "# programming_subreddit_list = list(programming['subreddit'])\n",
    "\n",
    "# # 3. getting the posts into a dataframe\n",
    "# arts_list = [posts[posts['subreddit'] == subreddit] for subreddit in arts_subreddit_list]\n",
    "# arts_posts = pd.concat(arts_list)\n",
    "\n",
    "# programming_list = [posts[posts['subreddit'] == subreddit] for subreddit in programming_subreddit_list]\n",
    "# programming_posts = pd.concat(programming_list)\n",
    "\n",
    "# # 4. labelling data and dropping columns\n",
    "# arts_posts['label'] = 0\n",
    "# programming_posts['label'] = 1\n",
    "# raw = pd.concat([arts_posts, programming_posts]).reset_index().drop(['index', 'id'], axis=1)"
   ]
  },
  {
   "cell_type": "markdown",
   "metadata": {},
   "source": [
    "## 2. Cleaning/Prepping Data"
   ]
  },
  {
   "cell_type": "code",
   "execution_count": null,
   "metadata": {},
   "outputs": [],
   "source": [
    "# # 1. combining posts' titles with their body of text\n",
    "# raw['text'] = raw['title'] + \" \" + raw['selftext']\n",
    "# posts = raw.drop(['title', 'selftext', 'subreddit'], axis=1)\n",
    "\n",
    "# # 2. dumping the cleaned data into its own csv\n",
    "# # posts.to_csv('arts-programming-reddit-posts.csv')\n"
   ]
  },
  {
   "cell_type": "code",
   "execution_count": 64,
   "metadata": {},
   "outputs": [],
   "source": [
    "# 3. prepping data for NLP (tokenize, filter non-english, lemmatize, CountVectorize)\n",
    "posts = pd.read_csv('data/arts-programming-reddit-posts.csv', index_col = None).drop('Unnamed: 0', axis=1)\n",
    "\n",
    "def lemmadata(doc):\n",
    "    pattern = \"([a-zA-Z]+(?:'[a-z]+)?)\"\n",
    "    raw_tokens = nltk.regexp_tokenize(doc, pattern)\n",
    "    tokens = [i.lower() for i in raw_tokens]\n",
    "    stop_words = set(stopwords.words('english'))\n",
    "    listed = [w for w in tokens if not w in stop_words]\n",
    "    lemmatized = [wordnet_lemmatizer.lemmatize(word, pos=\"v\") for word in listed]\n",
    "    lemmatized = list(filter(lambda w: w != 'lb', lemmatized))\n",
    "    words = list(filter(lambda w: w in english, lemmatized))\n",
    "    return \" \".join(words)\n",
    "\n",
    "lemmatized = pd.DataFrame([lemmadata(post) for post in list(posts['selftext'])])\n",
    "\n",
    "vec = CountVectorizer()\n",
    "X = vec.fit_transform(lemmatized[0])\n",
    "df = pd.DataFrame(X.toarray(), columns=vec.get_feature_names())"
   ]
  },
  {
   "cell_type": "markdown",
   "metadata": {},
   "source": [
    "## 3. Exploratory Data Analysis"
   ]
  },
  {
   "cell_type": "code",
   "execution_count": 65,
   "metadata": {},
   "outputs": [],
   "source": [
    "arts = df.iloc[:21000]\n",
    "programming = df.iloc[21000:]"
   ]
  },
  {
   "cell_type": "code",
   "execution_count": 66,
   "metadata": {},
   "outputs": [],
   "source": [
    "top_arts = pd.DataFrame(arts.sum().sort_values(ascending = False))\n",
    "top_programming = pd.DataFrame(programming.sum().sort_values(ascending = False))"
   ]
  },
  {
   "cell_type": "code",
   "execution_count": 67,
   "metadata": {},
   "outputs": [],
   "source": [
    "totalcounts = pd.DataFrame(df.sum().sort_values(ascending = False))"
   ]
  },
  {
   "cell_type": "code",
   "execution_count": 68,
   "metadata": {},
   "outputs": [
    {
     "data": {
      "text/html": [
       "<div>\n",
       "<style scoped>\n",
       "    .dataframe tbody tr th:only-of-type {\n",
       "        vertical-align: middle;\n",
       "    }\n",
       "\n",
       "    .dataframe tbody tr th {\n",
       "        vertical-align: top;\n",
       "    }\n",
       "\n",
       "    .dataframe thead th {\n",
       "        text-align: right;\n",
       "    }\n",
       "</style>\n",
       "<table border=\"1\" class=\"dataframe\">\n",
       "  <thead>\n",
       "    <tr style=\"text-align: right;\">\n",
       "      <th></th>\n",
       "      <th>0</th>\n",
       "    </tr>\n",
       "  </thead>\n",
       "  <tbody>\n",
       "    <tr>\n",
       "      <th>use</th>\n",
       "      <td>32839</td>\n",
       "    </tr>\n",
       "    <tr>\n",
       "      <th>tab</th>\n",
       "      <td>30044</td>\n",
       "    </tr>\n",
       "    <tr>\n",
       "      <th>get</th>\n",
       "      <td>28016</td>\n",
       "    </tr>\n",
       "    <tr>\n",
       "      <th>like</th>\n",
       "      <td>25488</td>\n",
       "    </tr>\n",
       "    <tr>\n",
       "      <th>would</th>\n",
       "      <td>24733</td>\n",
       "    </tr>\n",
       "  </tbody>\n",
       "</table>\n",
       "</div>"
      ],
      "text/plain": [
       "           0\n",
       "use    32839\n",
       "tab    30044\n",
       "get    28016\n",
       "like   25488\n",
       "would  24733"
      ]
     },
     "execution_count": 68,
     "metadata": {},
     "output_type": "execute_result"
    }
   ],
   "source": [
    "totalcounts.head()"
   ]
  },
  {
   "cell_type": "code",
   "execution_count": 69,
   "metadata": {},
   "outputs": [
    {
     "data": {
      "text/html": [
       "<div>\n",
       "<style scoped>\n",
       "    .dataframe tbody tr th:only-of-type {\n",
       "        vertical-align: middle;\n",
       "    }\n",
       "\n",
       "    .dataframe tbody tr th {\n",
       "        vertical-align: top;\n",
       "    }\n",
       "\n",
       "    .dataframe thead th {\n",
       "        text-align: right;\n",
       "    }\n",
       "</style>\n",
       "<table border=\"1\" class=\"dataframe\">\n",
       "  <thead>\n",
       "    <tr style=\"text-align: right;\">\n",
       "      <th></th>\n",
       "      <th>arts_words</th>\n",
       "      <th>arts_count</th>\n",
       "      <th>prg_words</th>\n",
       "      <th>prg_count</th>\n",
       "      <th>all_words</th>\n",
       "      <th>all_counts</th>\n",
       "    </tr>\n",
       "  </thead>\n",
       "  <tbody>\n",
       "    <tr>\n",
       "      <th>0</th>\n",
       "      <td>get</td>\n",
       "      <td>15343</td>\n",
       "      <td>tab</td>\n",
       "      <td>29529</td>\n",
       "      <td>use</td>\n",
       "      <td>32839</td>\n",
       "    </tr>\n",
       "    <tr>\n",
       "      <th>1</th>\n",
       "      <td>like</td>\n",
       "      <td>13556</td>\n",
       "      <td>use</td>\n",
       "      <td>20309</td>\n",
       "      <td>tab</td>\n",
       "      <td>30044</td>\n",
       "    </tr>\n",
       "    <tr>\n",
       "      <th>2</th>\n",
       "      <td>would</td>\n",
       "      <td>13483</td>\n",
       "      <td>get</td>\n",
       "      <td>12673</td>\n",
       "      <td>get</td>\n",
       "      <td>28016</td>\n",
       "    </tr>\n",
       "    <tr>\n",
       "      <th>3</th>\n",
       "      <td>use</td>\n",
       "      <td>12530</td>\n",
       "      <td>like</td>\n",
       "      <td>11932</td>\n",
       "      <td>like</td>\n",
       "      <td>25488</td>\n",
       "    </tr>\n",
       "    <tr>\n",
       "      <th>4</th>\n",
       "      <td>look</td>\n",
       "      <td>11096</td>\n",
       "      <td>work</td>\n",
       "      <td>11285</td>\n",
       "      <td>would</td>\n",
       "      <td>24733</td>\n",
       "    </tr>\n",
       "  </tbody>\n",
       "</table>\n",
       "</div>"
      ],
      "text/plain": [
       "  arts_words arts_count prg_words prg_count all_words all_counts\n",
       "0        get      15343       tab     29529       use      32839\n",
       "1       like      13556       use     20309       tab      30044\n",
       "2      would      13483       get     12673       get      28016\n",
       "3        use      12530      like     11932      like      25488\n",
       "4       look      11096      work     11285     would      24733"
      ]
     },
     "execution_count": 69,
     "metadata": {},
     "output_type": "execute_result"
    }
   ],
   "source": [
    "wordcountdf = pd.DataFrame([top_arts.index, top_arts[0], top_programming.index, top_programming[0], totalcounts.index[:21000], totalcounts[0][:21000]]).transpose()\n",
    "wordcountdf.columns = ['arts_words', 'arts_count', 'prg_words', 'prg_count', 'all_words', 'all_counts']\n",
    "wordcountdf.head()"
   ]
  },
  {
   "cell_type": "code",
   "execution_count": 72,
   "metadata": {},
   "outputs": [
    {
     "data": {
      "text/html": [
       "<div>\n",
       "<style scoped>\n",
       "    .dataframe tbody tr th:only-of-type {\n",
       "        vertical-align: middle;\n",
       "    }\n",
       "\n",
       "    .dataframe tbody tr th {\n",
       "        vertical-align: top;\n",
       "    }\n",
       "\n",
       "    .dataframe thead th {\n",
       "        text-align: right;\n",
       "    }\n",
       "</style>\n",
       "<table border=\"1\" class=\"dataframe\">\n",
       "  <thead>\n",
       "    <tr style=\"text-align: right;\">\n",
       "      <th></th>\n",
       "      <th>arts_words</th>\n",
       "      <th>arts_count</th>\n",
       "      <th>prg_words</th>\n",
       "      <th>prg_count</th>\n",
       "      <th>all_words</th>\n",
       "      <th>all_counts</th>\n",
       "      <th>all_arts</th>\n",
       "      <th>all_prg</th>\n",
       "    </tr>\n",
       "  </thead>\n",
       "  <tbody>\n",
       "    <tr>\n",
       "      <th>0</th>\n",
       "      <td>get</td>\n",
       "      <td>15343</td>\n",
       "      <td>tab</td>\n",
       "      <td>29529</td>\n",
       "      <td>use</td>\n",
       "      <td>32839</td>\n",
       "      <td>12530</td>\n",
       "      <td>20309</td>\n",
       "    </tr>\n",
       "    <tr>\n",
       "      <th>1</th>\n",
       "      <td>like</td>\n",
       "      <td>13556</td>\n",
       "      <td>use</td>\n",
       "      <td>20309</td>\n",
       "      <td>tab</td>\n",
       "      <td>30044</td>\n",
       "      <td>515</td>\n",
       "      <td>29529</td>\n",
       "    </tr>\n",
       "    <tr>\n",
       "      <th>2</th>\n",
       "      <td>would</td>\n",
       "      <td>13483</td>\n",
       "      <td>get</td>\n",
       "      <td>12673</td>\n",
       "      <td>get</td>\n",
       "      <td>28016</td>\n",
       "      <td>15343</td>\n",
       "      <td>12673</td>\n",
       "    </tr>\n",
       "    <tr>\n",
       "      <th>3</th>\n",
       "      <td>use</td>\n",
       "      <td>12530</td>\n",
       "      <td>like</td>\n",
       "      <td>11932</td>\n",
       "      <td>like</td>\n",
       "      <td>25488</td>\n",
       "      <td>13556</td>\n",
       "      <td>11932</td>\n",
       "    </tr>\n",
       "    <tr>\n",
       "      <th>4</th>\n",
       "      <td>look</td>\n",
       "      <td>11096</td>\n",
       "      <td>work</td>\n",
       "      <td>11285</td>\n",
       "      <td>would</td>\n",
       "      <td>24733</td>\n",
       "      <td>13483</td>\n",
       "      <td>11250</td>\n",
       "    </tr>\n",
       "  </tbody>\n",
       "</table>\n",
       "</div>"
      ],
      "text/plain": [
       "  arts_words arts_count prg_words prg_count all_words all_counts  all_arts  \\\n",
       "0        get      15343       tab     29529       use      32839     12530   \n",
       "1       like      13556       use     20309       tab      30044       515   \n",
       "2      would      13483       get     12673       get      28016     15343   \n",
       "3        use      12530      like     11932      like      25488     13556   \n",
       "4       look      11096      work     11285     would      24733     13483   \n",
       "\n",
       "   all_prg  \n",
       "0    20309  \n",
       "1    29529  \n",
       "2    12673  \n",
       "3    11932  \n",
       "4    11250  "
      ]
     },
     "execution_count": 72,
     "metadata": {},
     "output_type": "execute_result"
    }
   ],
   "source": [
    "wordcountdf['all_arts'] = [top_arts.loc[x][0] for x in wordcountdf['all_words']]\n",
    "wordcountdf['all_prg'] = [top_programming.loc[x][0] for x in wordcountdf['all_words']]\n",
    "wordcountdf.head()"
   ]
  },
  {
   "cell_type": "code",
   "execution_count": 19,
   "metadata": {
    "collapsed": true
   },
   "outputs": [
    {
     "data": {
      "text/plain": [
       "[('tab', 29529),\n",
       " ('use', 20309),\n",
       " ('get', 12673),\n",
       " ('like', 11932),\n",
       " ('work', 11285),\n",
       " ('would', 11250),\n",
       " ('file', 9826),\n",
       " ('try', 9537),\n",
       " ('code', 8685),\n",
       " ('want', 8546),\n",
       " ('data', 7763),\n",
       " ('make', 7628),\n",
       " ('run', 7258),\n",
       " ('need', 7150),\n",
       " ('new', 7095),\n",
       " ('go', 6692),\n",
       " ('one', 6470),\n",
       " ('know', 6164),\n",
       " ('create', 6146),\n",
       " ('time', 6131),\n",
       " ('way', 6107),\n",
       " ('name', 5969),\n",
       " ('thank', 5950),\n",
       " ('look', 5869),\n",
       " ('find', 5831),\n",
       " ('user', 5763),\n",
       " ('help', 5549),\n",
       " ('project', 5218),\n",
       " ('function', 4705),\n",
       " ('class', 4675),\n",
       " ('value', 4622),\n",
       " ('type', 4590),\n",
       " ('something', 4537),\n",
       " ('add', 4463),\n",
       " ('think', 4404),\n",
       " ('error', 4350),\n",
       " ('also', 4300),\n",
       " ('test', 4282),\n",
       " ('set', 4203),\n",
       " ('server', 4201),\n",
       " ('start', 4120),\n",
       " ('could', 4098),\n",
       " ('write', 4093),\n",
       " ('change', 4042),\n",
       " ('string', 4035),\n",
       " ('id', 3959),\n",
       " ('seem', 3942),\n",
       " ('see', 3817),\n",
       " ('return', 3788),\n",
       " ('first', 3775),\n",
       " ('post', 3745),\n",
       " ('build', 3665),\n",
       " ('docker', 3651),\n",
       " ('line', 3619),\n",
       " ('list', 3605),\n",
       " ('question', 3510),\n",
       " ('image', 3450),\n",
       " ('model', 3418),\n",
       " ('git', 3362),\n",
       " ('end', 3329),\n",
       " ('learn', 3259),\n",
       " ('table', 3240),\n",
       " ('program', 3211),\n",
       " ('problem', 3207),\n",
       " ('number', 3180),\n",
       " ('example', 3107),\n",
       " ('anyone', 3088),\n",
       " ('really', 3071),\n",
       " ('text', 3061),\n",
       " ('read', 3046),\n",
       " ('script', 3045),\n",
       " ('call', 2994),\n",
       " ('right', 2918),\n",
       " ('hi', 2844),\n",
       " ('issue', 2811),\n",
       " ('follow', 2798),\n",
       " ('give', 2789),\n",
       " ('edit', 2744),\n",
       " ('page', 2741),\n",
       " ('take', 2731),\n",
       " ('system', 2708),\n",
       " ('input', 2661),\n",
       " ('sure', 2659),\n",
       " ('say', 2658),\n",
       " ('able', 2549),\n",
       " ('result', 2544),\n",
       " ('web', 2528),\n",
       " ('form', 2502),\n",
       " ('self', 2493),\n",
       " ('two', 2486),\n",
       " ('different', 2483),\n",
       " ('however', 2481),\n",
       " ('update', 2478),\n",
       " ('appreciate', 2462),\n",
       " ('show', 2436),\n",
       " ('point', 2431),\n",
       " ('let', 2429),\n",
       " ('object', 2405),\n",
       " ('good', 2377),\n",
       " ('link', 2376),\n",
       " ('application', 2363),\n",
       " ('even', 2361),\n",
       " ('command', 2294),\n",
       " ('package', 2269),\n",
       " ('much', 2268),\n",
       " ('react', 2236),\n",
       " ('main', 2225),\n",
       " ('request', 2202),\n",
       " ('base', 2193),\n",
       " ('python', 2193),\n",
       " ('public', 2176),\n",
       " ('understand', 2169),\n",
       " ('array', 2154),\n",
       " ('currently', 2140),\n",
       " ('print', 2138),\n",
       " ('host', 2126),\n",
       " ('simple', 2107),\n",
       " ('still', 2095),\n",
       " ('view', 2083),\n",
       " ('hello', 2069),\n",
       " ('else', 2061),\n",
       " ('select', 2026),\n",
       " ('case', 2008),\n",
       " ('service', 2006),\n",
       " ('check', 1988),\n",
       " ('come', 1974),\n",
       " ('log', 1974),\n",
       " ('best', 1970),\n",
       " ('figure', 1965),\n",
       " ('do', 1956),\n",
       " ('net', 1950),\n",
       " ('method', 1922),\n",
       " ('well', 1903),\n",
       " ('key', 1900),\n",
       " ('store', 1899),\n",
       " ('version', 1895),\n",
       " ('lot', 1879),\n",
       " ('another', 1861),\n",
       " ('possible', 1861),\n",
       " ('output', 1857),\n",
       " ('order', 1852),\n",
       " ('import', 1841),\n",
       " ('many', 1836),\n",
       " ('row', 1836),\n",
       " ('open', 1835),\n",
       " ('better', 1798),\n",
       " ('message', 1798),\n",
       " ('query', 1790),\n",
       " ('since', 1776),\n",
       " ('echo', 1770),\n",
       " ('date', 1759),\n",
       " ('without', 1755),\n",
       " ('part', 1743),\n",
       " ('guy', 1737),\n",
       " ('rust', 1709),\n",
       " ('state', 1708),\n",
       " ('branch', 1667),\n",
       " ('please', 1656),\n",
       " ('field', 1650),\n",
       " ('someone', 1648),\n",
       " ('keep', 1647),\n",
       " ('library', 1642),\n",
       " ('access', 1639),\n",
       " ('process', 1639),\n",
       " ('search', 1634),\n",
       " ('around', 1630),\n",
       " ('idea', 1630),\n",
       " ('every', 1623),\n",
       " ('thing', 1623),\n",
       " ('true', 1623),\n",
       " ('background', 1621),\n",
       " ('container', 1621),\n",
       " ('source', 1589),\n",
       " ('back', 1583),\n",
       " ('feature', 1576),\n",
       " ('anything', 1572),\n",
       " ('display', 1565),\n",
       " ('put', 1565),\n",
       " ('solution', 1551),\n",
       " ('far', 1546),\n",
       " ('bite', 1537),\n",
       " ('content', 1526),\n",
       " ('people', 1518),\n",
       " ('current', 1506),\n",
       " ('client', 1503),\n",
       " ('rail', 1503),\n",
       " ('ask', 1498),\n",
       " ('send', 1498),\n",
       " ('android', 1489),\n",
       " ('button', 1484),\n",
       " ('last', 1478),\n",
       " ('master', 1463),\n",
       " ('implement', 1460),\n",
       " ('comment', 1453),\n",
       " ('experience', 1441),\n",
       " ('include', 1439),\n",
       " ('index', 1438),\n",
       " ('feel', 1435),\n",
       " ('wonder', 1434),\n",
       " ('require', 1428),\n",
       " ('advance', 1421),\n",
       " ('second', 1421),\n",
       " ('everything', 1420),\n",
       " ('path', 1406),\n",
       " ('already', 1402),\n",
       " ('load', 1387),\n",
       " ('size', 1379),\n",
       " ('instead', 1375),\n",
       " ('mean', 1374),\n",
       " ('title', 1372),\n",
       " ('wrong', 1357),\n",
       " ('loop', 1353),\n",
       " ('commit', 1351),\n",
       " ('allow', 1346),\n",
       " ('local', 1342),\n",
       " ('fix', 1339),\n",
       " ('might', 1328),\n",
       " ('information', 1327),\n",
       " ('hey', 1326),\n",
       " ('course', 1318),\n",
       " ('move', 1282),\n",
       " ('multiple', 1274),\n",
       " ('leave', 1269),\n",
       " ('pretty', 1269),\n",
       " ('support', 1264),\n",
       " ('share', 1261),\n",
       " ('save', 1259),\n",
       " ('instance', 1252),\n",
       " ('site', 1244),\n",
       " ('development', 1241),\n",
       " ('group', 1231),\n",
       " ('maybe', 1231),\n",
       " ('handle', 1224),\n",
       " ('pass', 1221),\n",
       " ('variable', 1215),\n",
       " ('color', 1211),\n",
       " ('stuff', 1204),\n",
       " ('tool', 1200),\n",
       " ('answer', 1197),\n",
       " ('contain', 1196),\n",
       " ('install', 1194),\n",
       " ('core', 1187),\n",
       " ('exist', 1177),\n",
       " ('format', 1174),\n",
       " ('directory', 1173),\n",
       " ('count', 1157),\n",
       " ('push', 1157),\n",
       " ('null', 1154),\n",
       " ('basically', 1151),\n",
       " ('io', 1149),\n",
       " ('little', 1144),\n",
       " ('folder', 1132),\n",
       " ('fine', 1131),\n",
       " ('job', 1131),\n",
       " ('copy', 1130),\n",
       " ('next', 1128),\n",
       " ('miss', 1127),\n",
       " ('place', 1126),\n",
       " ('generate', 1122),\n",
       " ('provide', 1122),\n",
       " ('div', 1114),\n",
       " ('static', 1114),\n",
       " ('item', 1113),\n",
       " ('book', 1112),\n",
       " ('game', 1110),\n",
       " ('default', 1109),\n",
       " ('column', 1094),\n",
       " ('remove', 1089),\n",
       " ('interest', 1088),\n",
       " ('position', 1081),\n",
       " ('home', 1079),\n",
       " ('actually', 1072),\n",
       " ('language', 1068),\n",
       " ('task', 1068),\n",
       " ('tell', 1068),\n",
       " ('sort', 1061),\n",
       " ('via', 1061),\n",
       " ('dev', 1059),\n",
       " ('happen', 1059),\n",
       " ('enter', 1058),\n",
       " ('connect', 1056),\n",
       " ('play', 1056),\n",
       " ('bash', 1055),\n",
       " ('single', 1054),\n",
       " ('side', 1053),\n",
       " ('level', 1052),\n",
       " ('stack', 1051),\n",
       " ('pull', 1049),\n",
       " ('length', 1046),\n",
       " ('either', 1042),\n",
       " ('may', 1040),\n",
       " ('swift', 1039),\n",
       " ('long', 1038),\n",
       " ('small', 1038),\n",
       " ('specific', 1032),\n",
       " ('map', 1027),\n",
       " ('machine', 1025),\n",
       " ('password', 1020),\n",
       " ('great', 1019),\n",
       " ('similar', 1018),\n",
       " ('thread', 1013),\n",
       " ('click', 1008),\n",
       " ('box', 1005),\n",
       " ('fail', 1003),\n",
       " ('though', 1003),\n",
       " ('option', 1002),\n",
       " ('within', 994),\n",
       " ('reason', 987),\n",
       " ('solve', 984),\n",
       " ('component', 981),\n",
       " ('network', 981),\n",
       " ('reference', 978),\n",
       " ('basic', 977),\n",
       " ('develop', 975),\n",
       " ('render', 974),\n",
       " ('cannot', 970),\n",
       " ('always', 957),\n",
       " ('everyone', 954),\n",
       " ('join', 954),\n",
       " ('day', 948),\n",
       " ('easy', 945),\n",
       " ('kind', 942),\n",
       " ('false', 941),\n",
       " ('top', 941),\n",
       " ('expect', 940),\n",
       " ('correct', 939),\n",
       " ('merge', 935),\n",
       " ('word', 933),\n",
       " ('setup', 923),\n",
       " ('approach', 922),\n",
       " ('delete', 907),\n",
       " ('design', 907),\n",
       " ('plot', 895),\n",
       " ('quite', 893),\n",
       " ('free', 884),\n",
       " ('action', 879),\n",
       " ('header', 876),\n",
       " ('node', 875),\n",
       " ('release', 875),\n",
       " ('note', 872),\n",
       " ('year', 872),\n",
       " ('framework', 871),\n",
       " ('account', 866),\n",
       " ('define', 866),\n",
       " ('match', 861),\n",
       " ('break', 860),\n",
       " ('company', 859),\n",
       " ('developer', 852),\n",
       " ('step', 850),\n",
       " ('control', 846),\n",
       " ('structure', 845),\n",
       " ('manage', 843),\n",
       " ('probably', 838),\n",
       " ('inside', 833),\n",
       " ('address', 832),\n",
       " ('style', 830),\n",
       " ('nothing', 819),\n",
       " ('record', 816),\n",
       " ('tag', 816),\n",
       " ('block', 809),\n",
       " ('team', 809),\n",
       " ('port', 806),\n",
       " ('advice', 802),\n",
       " ('never', 801),\n",
       " ('separate', 800),\n",
       " ('compile', 797),\n",
       " ('head', 795),\n",
       " ('location', 793),\n",
       " ('cod', 791),\n",
       " ('product', 790),\n",
       " ('sub', 788),\n",
       " ('recently', 777),\n",
       " ('yet', 777),\n",
       " ('full', 775),\n",
       " ('foo', 772),\n",
       " ('private', 771),\n",
       " ('enough', 769),\n",
       " ('us', 769),\n",
       " ('close', 765),\n",
       " ('complete', 764),\n",
       " ('submit', 763),\n",
       " ('available', 758),\n",
       " ('practice', 753),\n",
       " ('filter', 751),\n",
       " ('total', 750),\n",
       " ('bar', 746),\n",
       " ('bin', 746),\n",
       " ('rather', 743),\n",
       " ('tutorial', 740),\n",
       " ('login', 735),\n",
       " ('void', 731),\n",
       " ('execute', 726),\n",
       " ('console', 724),\n",
       " ('width', 724),\n",
       " ('response', 722),\n",
       " ('height', 719),\n",
       " ('context', 714),\n",
       " ('old', 711),\n",
       " ('remote', 709),\n",
       " ('detail', 699),\n",
       " ('decide', 690),\n",
       " ('root', 690),\n",
       " ('love', 686),\n",
       " ('screen', 685),\n",
       " ('random', 683),\n",
       " ('plan', 680),\n",
       " ('environment', 676),\n",
       " ('suppose', 676),\n",
       " ('custom', 670),\n",
       " ('report', 667),\n",
       " ('explain', 666),\n",
       " ('rest', 666),\n",
       " ('insert', 665),\n",
       " ('session', 663),\n",
       " ('repository', 662),\n",
       " ('guess', 660),\n",
       " ('large', 658),\n",
       " ('documentation', 657),\n",
       " ('none', 656),\n",
       " ('connection', 655),\n",
       " ('greatly', 655),\n",
       " ('module', 651),\n",
       " ('turn', 651),\n",
       " ('event', 650),\n",
       " ('must', 650),\n",
       " ('replace', 650),\n",
       " ('simply', 649),\n",
       " ('switch', 644),\n",
       " ('frame', 641),\n",
       " ('couple', 640),\n",
       " ('non', 639),\n",
       " ('hard', 636),\n",
       " ('real', 635),\n",
       " ('clone', 634),\n",
       " ('limit', 633),\n",
       " ('character', 630),\n",
       " ('apply', 629),\n",
       " ('certain', 629),\n",
       " ('feedback', 628),\n",
       " ('attempt', 625),\n",
       " ('space', 623),\n",
       " ('stick', 623),\n",
       " ('convert', 620),\n",
       " ('status', 618),\n",
       " ('assume', 616),\n",
       " ('deploy', 616),\n",
       " ('os', 615),\n",
       " ('appear', 613),\n",
       " ('bind', 613),\n",
       " ('pattern', 613),\n",
       " ('days', 611),\n",
       " ('interface', 611),\n",
       " ('least', 611),\n",
       " ('month', 610),\n",
       " ('cause', 608),\n",
       " ('trouble', 608),\n",
       " ('sum', 607),\n",
       " ('several', 605),\n",
       " ('relate', 604),\n",
       " ('sorry', 602),\n",
       " ('asp', 599),\n",
       " ('big', 598),\n",
       " ('receive', 598),\n",
       " ('domain', 597),\n",
       " ('whole', 597),\n",
       " ('per', 595),\n",
       " ('compare', 594),\n",
       " ('world', 591),\n",
       " ('begin', 590),\n",
       " ('consider', 587),\n",
       " ('crate', 585),\n",
       " ('matrix', 585),\n",
       " ('amount', 583),\n",
       " ('player', 582),\n",
       " ('confuse', 580),\n",
       " ('nice', 579),\n",
       " ('controller', 577),\n",
       " ('term', 577),\n",
       " ('document', 576),\n",
       " ('template', 574),\n",
       " ('track', 574),\n",
       " ('across', 573),\n",
       " ('article', 573),\n",
       " ('empty', 573),\n",
       " ('double', 572),\n",
       " ('flair', 570),\n",
       " ('parse', 570),\n",
       " ('price', 569),\n",
       " ('computer', 567),\n",
       " ('together', 567),\n",
       " ('hope', 564),\n",
       " ('three', 562),\n",
       " ('ago', 561),\n",
       " ('element', 561),\n",
       " ('recommend', 561),\n",
       " ('choose', 559),\n",
       " ('guide', 559),\n",
       " ('stop', 558),\n",
       " ('less', 556),\n",
       " ('person', 556),\n",
       " ('direction', 554),\n",
       " ('label', 553),\n",
       " ('ruby', 550),\n",
       " ('video', 548),\n",
       " ('memory', 546),\n",
       " ('fit', 545),\n",
       " ('redux', 545),\n",
       " ('actual', 542),\n",
       " ('sample', 542),\n",
       " ('tree', 541),\n",
       " ('body', 540),\n",
       " ('sense', 535),\n",
       " ('live', 533),\n",
       " ('hop', 532),\n",
       " ('bad', 529),\n",
       " ('useful', 526),\n",
       " ('token', 524),\n",
       " ('production', 521),\n",
       " ('range', 521),\n",
       " ('general', 520),\n",
       " ('community', 514),\n",
       " ('modify', 513),\n",
       " ('deal', 510),\n",
       " ('whether', 510),\n",
       " ('become', 509),\n",
       " ('err', 509),\n",
       " ('prop', 509),\n",
       " ('correctly', 504),\n",
       " ('standard', 504),\n",
       " ('clear', 501),\n",
       " ('implementation', 501),\n",
       " ('notice', 500),\n",
       " ('cache', 496),\n",
       " ('stream', 496),\n",
       " ('completely', 493),\n",
       " ('integer', 493),\n",
       " ('easier', 492),\n",
       " ('future', 490),\n",
       " ('window', 490),\n",
       " ('exactly', 489),\n",
       " ('performance', 489),\n",
       " ('sh', 488),\n",
       " ('past', 487),\n",
       " ('studio', 487),\n",
       " ('front', 486),\n",
       " ('statement', 485),\n",
       " ('syntax', 484),\n",
       " ('manually', 482),\n",
       " ('original', 480),\n",
       " ('talk', 480),\n",
       " ('attribute', 478),\n",
       " ('throw', 477),\n",
       " ('vector', 475),\n",
       " ('hear', 469),\n",
       " ('section', 469),\n",
       " ('clean', 468),\n",
       " ('finish', 468),\n",
       " ('suggest', 466),\n",
       " ('common', 464),\n",
       " ('browser', 463),\n",
       " ('drop', 463),\n",
       " ('easily', 463),\n",
       " ('properly', 462),\n",
       " ('bunch', 461),\n",
       " ('blob', 460),\n",
       " ('compose', 459),\n",
       " ('exit', 459),\n",
       " ('later', 459),\n",
       " ('lose', 457),\n",
       " ('target', 457),\n",
       " ('directly', 456),\n",
       " ('latest', 452),\n",
       " ('super', 449),\n",
       " ('fetch', 448),\n",
       " ('phone', 447),\n",
       " ('important', 446),\n",
       " ('hit', 445),\n",
       " ('week', 445),\n",
       " ('score', 444),\n",
       " ('sit', 443),\n",
       " ('along', 441),\n",
       " ('pay', 440),\n",
       " ('profile', 438),\n",
       " ('bug', 436),\n",
       " ('gist', 435),\n",
       " ('repeat', 434),\n",
       " ('knowledge', 433),\n",
       " ('logic', 433),\n",
       " ('mobile', 432),\n",
       " ('bottom', 430),\n",
       " ('except', 425),\n",
       " ('spend', 424),\n",
       " ('ways', 424),\n",
       " ('prefer', 423),\n",
       " ('visual', 422),\n",
       " ('specify', 421),\n",
       " ('card', 419),\n",
       " ('nil', 419),\n",
       " ('sign', 419),\n",
       " ('continue', 418),\n",
       " ('due', 417),\n",
       " ('fill', 417),\n",
       " ('sometimes', 417),\n",
       " ('proxy', 416),\n",
       " ('obviously', 415),\n",
       " ('split', 414),\n",
       " ('graph', 412),\n",
       " ('hold', 410),\n",
       " ('various', 410),\n",
       " ('watch', 410),\n",
       " ('accept', 409),\n",
       " ('achieve', 409),\n",
       " ('purpose', 408),\n",
       " ('calculate', 407),\n",
       " ('depend', 407),\n",
       " ('en', 406),\n",
       " ('functionality', 406),\n",
       " ('mail', 406),\n",
       " ('configure', 405),\n",
       " ('management', 405),\n",
       " ('sync', 405),\n",
       " ('automatically', 404),\n",
       " ('perform', 404),\n",
       " ('entry', 402),\n",
       " ('particular', 402),\n",
       " ('scanner', 400),\n",
       " ('security', 400),\n",
       " ('description', 399),\n",
       " ('ever', 399),\n",
       " ('mention', 399),\n",
       " ('parent', 399),\n",
       " ('assign', 398),\n",
       " ('border', 398),\n",
       " ('channel', 398),\n",
       " ('regard', 398),\n",
       " ('force', 397),\n",
       " ('welcome', 396),\n",
       " ('whatever', 396),\n",
       " ('offer', 395),\n",
       " ('tip', 395),\n",
       " ('goal', 392),\n",
       " ('history', 392),\n",
       " ('believe', 391),\n",
       " ('picture', 391),\n",
       " ('route', 391),\n",
       " ('today', 391),\n",
       " ('export', 390),\n",
       " ('matter', 390),\n",
       " ('menu', 390),\n",
       " ('research', 390),\n",
       " ('authentication', 389),\n",
       " ('mostly', 388),\n",
       " ('rule', 388),\n",
       " ('fairly', 387),\n",
       " ('forward', 387),\n",
       " ('exception', 386),\n",
       " ('unit', 386),\n",
       " ('avoid', 385),\n",
       " ('hand', 385),\n",
       " ('pick', 384),\n",
       " ('platform', 384),\n",
       " ('valid', 384),\n",
       " ('struggle', 383),\n",
       " ('child', 381),\n",
       " ('customer', 381),\n",
       " ('theme', 380),\n",
       " ('improve', 378),\n",
       " ('entire', 376),\n",
       " ('device', 375),\n",
       " ('enable', 375),\n",
       " ('previous', 375),\n",
       " ('pi', 373),\n",
       " ('native', 372),\n",
       " ('drive', 371),\n",
       " ('moment', 371),\n",
       " ('category', 370),\n",
       " ('extend', 370),\n",
       " ('wait', 370),\n",
       " ('external', 369),\n",
       " ('normal', 369),\n",
       " ('terminal', 369),\n",
       " ('zero', 369),\n",
       " ('binary', 368),\n",
       " ('initial', 366),\n",
       " ('short', 364),\n",
       " ('mac', 363),\n",
       " ('area', 362),\n",
       " ('difference', 362),\n",
       " ('review', 362),\n",
       " ('unique', 362),\n",
       " ('complex', 361),\n",
       " ('paste', 361),\n",
       " ('cloud', 360),\n",
       " ('personal', 357),\n",
       " ('curious', 355),\n",
       " ('final', 355),\n",
       " ('mode', 355),\n",
       " ('high', 354),\n",
       " ('prompt', 354),\n",
       " ('scale', 354),\n",
       " ('font', 353),\n",
       " ('router', 353),\n",
       " ('beginner', 352),\n",
       " ('active', 351),\n",
       " ('contact', 351),\n",
       " ('manager', 351),\n",
       " ('outside', 351),\n",
       " ('compiler', 350),\n",
       " ('yes', 349),\n",
       " ('publish', 347),\n",
       " ('quick', 347),\n",
       " ('storage', 346),\n",
       " ('almost', 345),\n",
       " ('excel', 345),\n",
       " ('lead', 345),\n",
       " ('focus', 344),\n",
       " ('media', 344),\n",
       " ('age', 343),\n",
       " ('argument', 342),\n",
       " ('mind', 342),\n",
       " ('specifically', 341),\n",
       " ('speed', 341),\n",
       " ('auto', 340),\n",
       " ('anyway', 339),\n",
       " ('cell', 339),\n",
       " ('wrap', 339),\n",
       " ('author', 338),\n",
       " ('char', 338),\n",
       " ('blank', 337),\n",
       " ('mess', 336),\n",
       " ('shell', 336),\n",
       " ('mount', 335),\n",
       " ('somehow', 335),\n",
       " ('fi', 333),\n",
       " ('helpful', 333),\n",
       " ('often', 331),\n",
       " ('rout', 330),\n",
       " ('layout', 329),\n",
       " ('dont', 328),\n",
       " ('effect', 328),\n",
       " ('property', 328),\n",
       " ('unfortunately', 328),\n",
       " ('choice', 327),\n",
       " ('fun', 327),\n",
       " ('catch', 326),\n",
       " ('encode', 326),\n",
       " ('realize', 326),\n",
       " ('append', 324),\n",
       " ('resource', 324),\n",
       " ('usually', 324),\n",
       " ('finally', 323),\n",
       " ('essentially', 322),\n",
       " ('curl', 321),\n",
       " ('especially', 320),\n",
       " ('global', 319),\n",
       " ('apache', 318),\n",
       " ('business', 318),\n",
       " ('configuration', 318),\n",
       " ('volume', 318),\n",
       " ('subject', 316),\n",
       " ('th', 316),\n",
       " ('locally', 315),\n",
       " ('backup', 314),\n",
       " ('col', 312),\n",
       " ('extract', 312),\n",
       " ('teach', 312),\n",
       " ('present', 311),\n",
       " ('fast', 310),\n",
       " ('letter', 310),\n",
       " ('warn', 310),\n",
       " ('center', 309),\n",
       " ('cluster', 309),\n",
       " ('float', 309),\n",
       " ('represent', 309),\n",
       " ('student', 309),\n",
       " ('produce', 308),\n",
       " ('temp', 308),\n",
       " ('draw', 306),\n",
       " ('redirect', 305),\n",
       " ('resolve', 305),\n",
       " ('sound', 305),\n",
       " ('cost', 304),\n",
       " ('relevant', 304),\n",
       " ('restart', 304),\n",
       " ('reverse', 304),\n",
       " ('although', 303),\n",
       " ('parameter', 303),\n",
       " ('school', 302),\n",
       " ('piece', 301),\n",
       " ('slow', 301),\n",
       " ('override', 300),\n",
       " ('analysis', 299),\n",
       " ('situation', 299),\n",
       " ('condition', 298),\n",
       " ('happy', 298),\n",
       " ('nest', 298),\n",
       " ('primary', 298),\n",
       " ('internal', 296),\n",
       " ('press', 295),\n",
       " ('away', 294),\n",
       " ('whenever', 294),\n",
       " ('layer', 293),\n",
       " ('necessary', 293),\n",
       " ('behind', 291),\n",
       " ('occur', 290),\n",
       " ('series', 290),\n",
       " ('usage', 290),\n",
       " ('extra', 289),\n",
       " ('red', 289),\n",
       " ('success', 289),\n",
       " ('perhaps', 288),\n",
       " ('register', 288),\n",
       " ('assignment', 287),\n",
       " ('min', 287),\n",
       " ('serve', 287),\n",
       " ('combine', 286),\n",
       " ('lock', 286),\n",
       " ('grid', 285),\n",
       " ('alternative', 284),\n",
       " ('equal', 283),\n",
       " ('li', 283),\n",
       " ('belong', 282),\n",
       " ('third', 281),\n",
       " ('cover', 280),\n",
       " ('ideally', 280),\n",
       " ('conflict', 279),\n",
       " ('hash', 279),\n",
       " ('architecture', 278),\n",
       " ('angular', 277),\n",
       " ('average', 277),\n",
       " ('somewhere', 277),\n",
       " ('unable', 277),\n",
       " ('white', 277),\n",
       " ('aware', 276),\n",
       " ('complicate', 276),\n",
       " ('extension', 276),\n",
       " ('engine', 275),\n",
       " ('origin', 275),\n",
       " ('additional', 274),\n",
       " ('anybody', 274),\n",
       " ('concern', 274),\n",
       " ('hover', 274),\n",
       " ('ignore', 274),\n",
       " ('cut', 273),\n",
       " ('ready', 273),\n",
       " ('accomplish', 272),\n",
       " ('hide', 272),\n",
       " ('hopefully', 272),\n",
       " ('collection', 271),\n",
       " ('difficult', 271),\n",
       " ('editor', 271),\n",
       " ('st', 271),\n",
       " ('associate', 270),\n",
       " ('involve', 270),\n",
       " ('hour', 269),\n",
       " ('cat', 267),\n",
       " ('maintain', 267),\n",
       " ('weight', 267),\n",
       " ('declare', 265),\n",
       " ('animation', 264),\n",
       " ('individual', 263),\n",
       " ('recent', 263),\n",
       " ('successfully', 263),\n",
       " ('chat', 261),\n",
       " ('life', 261),\n",
       " ('study', 261),\n",
       " ('describe', 260),\n",
       " ('duplicate', 260),\n",
       " ('proper', 260),\n",
       " ('ability', 259),\n",
       " ('room', 259),\n",
       " ('bring', 258),\n",
       " ('activity', 257),\n",
       " ('engineer', 257),\n",
       " ('queue', 257),\n",
       " ('train', 257),\n",
       " ('determine', 256),\n",
       " ('dynamic', 256),\n",
       " ('factor', 256),\n",
       " ('longer', 256),\n",
       " ('trigger', 256),\n",
       " ('upgrade', 256),\n",
       " ('flag', 255),\n",
       " ('swarm', 255),\n",
       " ('exact', 254),\n",
       " ('familiar', 252),\n",
       " ('math', 252),\n",
       " ('sleep', 252),\n",
       " ('upon', 252),\n",
       " ('fact', 251),\n",
       " ('integrate', 251),\n",
       " ('worth', 250),\n",
       " ('linear', 249),\n",
       " ('monitor', 249),\n",
       " ('otherwise', 249),\n",
       " ('pad', 249),\n",
       " ('touch', 249),\n",
       " ('panel', 248),\n",
       " ('bundle', 247),\n",
       " ('huge', 247),\n",
       " ('rewrite', 247),\n",
       " ('zip', 247),\n",
       " ('correspond', 246),\n",
       " ('functional', 246),\n",
       " ('buy', 245),\n",
       " ('inner', 245),\n",
       " ('launch', 245),\n",
       " ('reset', 245),\n",
       " ('schedule', 245),\n",
       " ('party', 244),\n",
       " ('win', 244),\n",
       " ('quickly', 242),\n",
       " ('crash', 241),\n",
       " ('raw', 241),\n",
       " ('unknown', 241),\n",
       " ('low', 240),\n",
       " ('purchase', 240),\n",
       " ('reach', 240),\n",
       " ('bootstrap', 239),\n",
       " ('faster', 238),\n",
       " ('stable', 238),\n",
       " ('awesome', 237),\n",
       " ('appropriate', 236),\n",
       " ('banner', 235),\n",
       " ('entity', 234),\n",
       " ('imagine', 234),\n",
       " ('invalid', 234),\n",
       " ('benefit', 233),\n",
       " ('progress', 233),\n",
       " ('soon', 232),\n",
       " ('borrow', 231),\n",
       " ('virtual', 231),\n",
       " ('saw', 230),\n",
       " ('increase', 229),\n",
       " ('material', 229),\n",
       " ('ad', 228),\n",
       " ('care', 228),\n",
       " ('collect', 228),\n",
       " ('trait', 228),\n",
       " ('cant', 227),\n",
       " ('migrate', 227),\n",
       " ('thus', 227),\n",
       " ('topic', 227),\n",
       " ('worry', 227),\n",
       " ('employee', 226),\n",
       " ('gem', 226),\n",
       " ('generic', 226),\n",
       " ('weird', 226),\n",
       " ('algorithm', 225),\n",
       " ('plus', 225),\n",
       " ('relatively', 225),\n",
       " ('expose', 224),\n",
       " ('na', 223),\n",
       " ('signal', 223),\n",
       " ('bool', 222),\n",
       " ('disable', 222),\n",
       " ('foreign', 221),\n",
       " ('intend', 221),\n",
       " ('lack', 220),\n",
       " ('unwrap', 220),\n",
       " ('counter', 219),\n",
       " ('obvious', 219),\n",
       " ('roll', 219),\n",
       " ('square', 219),\n",
       " ('eventually', 218),\n",
       " ('fee', 218),\n",
       " ('flow', 218),\n",
       " ('cargo', 217),\n",
       " ('cool', 217),\n",
       " ('major', 217),\n",
       " ('efficient', 216),\n",
       " ('margin', 216),\n",
       " ('retrieve', 216),\n",
       " ('round', 215),\n",
       " ('conn', 213),\n",
       " ('cross', 213),\n",
       " ('meet', 213),\n",
       " ('remember', 213),\n",
       " ('fully', 212),\n",
       " ('onto', 212),\n",
       " ('ref', 212),\n",
       " ('challenge', 211),\n",
       " ('handler', 211),\n",
       " ('jar', 211),\n",
       " ('prevent', 211),\n",
       " ('possibly', 210),\n",
       " ('rate', 210),\n",
       " ('refresh', 210),\n",
       " ('entirely', 209),\n",
       " ('exercise', 209),\n",
       " ('monad', 209),\n",
       " ('pub', 209),\n",
       " ('span', 209),\n",
       " ('pop', 207),\n",
       " ('slice', 207),\n",
       " ('vote', 207),\n",
       " ('paper', 206),\n",
       " ('sender', 206),\n",
       " ('stay', 206),\n",
       " ('disk', 205),\n",
       " ...]"
      ]
     },
     "execution_count": 19,
     "metadata": {},
     "output_type": "execute_result"
    }
   ],
   "source": [
    "top_programming"
   ]
  },
  {
   "cell_type": "code",
   "execution_count": 81,
   "metadata": {},
   "outputs": [
    {
     "data": {
      "application/vnd.plotly.v1+json": {
       "config": {
        "plotlyServerURL": "https://plot.ly"
       },
       "data": [
        {
         "alignmentgroup": "True",
         "hoverlabel": {
          "namelength": 0
         },
         "hovertemplate": "arts_words=%{x}<br>arts_count=%{y}",
         "legendgroup": "",
         "marker": {
          "color": "#636efa"
         },
         "name": "",
         "offsetgroup": "",
         "orientation": "v",
         "showlegend": false,
         "textposition": "auto",
         "type": "bar",
         "x": [
          "get",
          "like",
          "would",
          "use",
          "look",
          "make",
          "want",
          "work",
          "go",
          "know",
          "one",
          "think",
          "thank",
          "time",
          "need",
          "try",
          "really",
          "find",
          "also",
          "see"
         ],
         "xaxis": "x",
         "y": [
          15343,
          13556,
          13483,
          12530,
          11096,
          10128,
          9431,
          8748,
          8011,
          7934,
          7854,
          7070,
          7060,
          6272,
          6169,
          5632,
          5455,
          5234,
          5213,
          5140
         ],
         "yaxis": "y"
        }
       ],
       "layout": {
        "barmode": "stack",
        "legend": {
         "tracegroupgap": 0
        },
        "template": {
         "data": {
          "bar": [
           {
            "error_x": {
             "color": "#2a3f5f"
            },
            "error_y": {
             "color": "#2a3f5f"
            },
            "marker": {
             "line": {
              "color": "#E5ECF6",
              "width": 0.5
             }
            },
            "type": "bar"
           }
          ],
          "barpolar": [
           {
            "marker": {
             "line": {
              "color": "#E5ECF6",
              "width": 0.5
             }
            },
            "type": "barpolar"
           }
          ],
          "carpet": [
           {
            "aaxis": {
             "endlinecolor": "#2a3f5f",
             "gridcolor": "white",
             "linecolor": "white",
             "minorgridcolor": "white",
             "startlinecolor": "#2a3f5f"
            },
            "baxis": {
             "endlinecolor": "#2a3f5f",
             "gridcolor": "white",
             "linecolor": "white",
             "minorgridcolor": "white",
             "startlinecolor": "#2a3f5f"
            },
            "type": "carpet"
           }
          ],
          "choropleth": [
           {
            "colorbar": {
             "outlinewidth": 0,
             "ticks": ""
            },
            "type": "choropleth"
           }
          ],
          "contour": [
           {
            "colorbar": {
             "outlinewidth": 0,
             "ticks": ""
            },
            "colorscale": [
             [
              0,
              "#0d0887"
             ],
             [
              0.1111111111111111,
              "#46039f"
             ],
             [
              0.2222222222222222,
              "#7201a8"
             ],
             [
              0.3333333333333333,
              "#9c179e"
             ],
             [
              0.4444444444444444,
              "#bd3786"
             ],
             [
              0.5555555555555556,
              "#d8576b"
             ],
             [
              0.6666666666666666,
              "#ed7953"
             ],
             [
              0.7777777777777778,
              "#fb9f3a"
             ],
             [
              0.8888888888888888,
              "#fdca26"
             ],
             [
              1,
              "#f0f921"
             ]
            ],
            "type": "contour"
           }
          ],
          "contourcarpet": [
           {
            "colorbar": {
             "outlinewidth": 0,
             "ticks": ""
            },
            "type": "contourcarpet"
           }
          ],
          "heatmap": [
           {
            "colorbar": {
             "outlinewidth": 0,
             "ticks": ""
            },
            "colorscale": [
             [
              0,
              "#0d0887"
             ],
             [
              0.1111111111111111,
              "#46039f"
             ],
             [
              0.2222222222222222,
              "#7201a8"
             ],
             [
              0.3333333333333333,
              "#9c179e"
             ],
             [
              0.4444444444444444,
              "#bd3786"
             ],
             [
              0.5555555555555556,
              "#d8576b"
             ],
             [
              0.6666666666666666,
              "#ed7953"
             ],
             [
              0.7777777777777778,
              "#fb9f3a"
             ],
             [
              0.8888888888888888,
              "#fdca26"
             ],
             [
              1,
              "#f0f921"
             ]
            ],
            "type": "heatmap"
           }
          ],
          "heatmapgl": [
           {
            "colorbar": {
             "outlinewidth": 0,
             "ticks": ""
            },
            "colorscale": [
             [
              0,
              "#0d0887"
             ],
             [
              0.1111111111111111,
              "#46039f"
             ],
             [
              0.2222222222222222,
              "#7201a8"
             ],
             [
              0.3333333333333333,
              "#9c179e"
             ],
             [
              0.4444444444444444,
              "#bd3786"
             ],
             [
              0.5555555555555556,
              "#d8576b"
             ],
             [
              0.6666666666666666,
              "#ed7953"
             ],
             [
              0.7777777777777778,
              "#fb9f3a"
             ],
             [
              0.8888888888888888,
              "#fdca26"
             ],
             [
              1,
              "#f0f921"
             ]
            ],
            "type": "heatmapgl"
           }
          ],
          "histogram": [
           {
            "marker": {
             "colorbar": {
              "outlinewidth": 0,
              "ticks": ""
             }
            },
            "type": "histogram"
           }
          ],
          "histogram2d": [
           {
            "colorbar": {
             "outlinewidth": 0,
             "ticks": ""
            },
            "colorscale": [
             [
              0,
              "#0d0887"
             ],
             [
              0.1111111111111111,
              "#46039f"
             ],
             [
              0.2222222222222222,
              "#7201a8"
             ],
             [
              0.3333333333333333,
              "#9c179e"
             ],
             [
              0.4444444444444444,
              "#bd3786"
             ],
             [
              0.5555555555555556,
              "#d8576b"
             ],
             [
              0.6666666666666666,
              "#ed7953"
             ],
             [
              0.7777777777777778,
              "#fb9f3a"
             ],
             [
              0.8888888888888888,
              "#fdca26"
             ],
             [
              1,
              "#f0f921"
             ]
            ],
            "type": "histogram2d"
           }
          ],
          "histogram2dcontour": [
           {
            "colorbar": {
             "outlinewidth": 0,
             "ticks": ""
            },
            "colorscale": [
             [
              0,
              "#0d0887"
             ],
             [
              0.1111111111111111,
              "#46039f"
             ],
             [
              0.2222222222222222,
              "#7201a8"
             ],
             [
              0.3333333333333333,
              "#9c179e"
             ],
             [
              0.4444444444444444,
              "#bd3786"
             ],
             [
              0.5555555555555556,
              "#d8576b"
             ],
             [
              0.6666666666666666,
              "#ed7953"
             ],
             [
              0.7777777777777778,
              "#fb9f3a"
             ],
             [
              0.8888888888888888,
              "#fdca26"
             ],
             [
              1,
              "#f0f921"
             ]
            ],
            "type": "histogram2dcontour"
           }
          ],
          "mesh3d": [
           {
            "colorbar": {
             "outlinewidth": 0,
             "ticks": ""
            },
            "type": "mesh3d"
           }
          ],
          "parcoords": [
           {
            "line": {
             "colorbar": {
              "outlinewidth": 0,
              "ticks": ""
             }
            },
            "type": "parcoords"
           }
          ],
          "pie": [
           {
            "automargin": true,
            "type": "pie"
           }
          ],
          "scatter": [
           {
            "marker": {
             "colorbar": {
              "outlinewidth": 0,
              "ticks": ""
             }
            },
            "type": "scatter"
           }
          ],
          "scatter3d": [
           {
            "line": {
             "colorbar": {
              "outlinewidth": 0,
              "ticks": ""
             }
            },
            "marker": {
             "colorbar": {
              "outlinewidth": 0,
              "ticks": ""
             }
            },
            "type": "scatter3d"
           }
          ],
          "scattercarpet": [
           {
            "marker": {
             "colorbar": {
              "outlinewidth": 0,
              "ticks": ""
             }
            },
            "type": "scattercarpet"
           }
          ],
          "scattergeo": [
           {
            "marker": {
             "colorbar": {
              "outlinewidth": 0,
              "ticks": ""
             }
            },
            "type": "scattergeo"
           }
          ],
          "scattergl": [
           {
            "marker": {
             "colorbar": {
              "outlinewidth": 0,
              "ticks": ""
             }
            },
            "type": "scattergl"
           }
          ],
          "scattermapbox": [
           {
            "marker": {
             "colorbar": {
              "outlinewidth": 0,
              "ticks": ""
             }
            },
            "type": "scattermapbox"
           }
          ],
          "scatterpolar": [
           {
            "marker": {
             "colorbar": {
              "outlinewidth": 0,
              "ticks": ""
             }
            },
            "type": "scatterpolar"
           }
          ],
          "scatterpolargl": [
           {
            "marker": {
             "colorbar": {
              "outlinewidth": 0,
              "ticks": ""
             }
            },
            "type": "scatterpolargl"
           }
          ],
          "scatterternary": [
           {
            "marker": {
             "colorbar": {
              "outlinewidth": 0,
              "ticks": ""
             }
            },
            "type": "scatterternary"
           }
          ],
          "surface": [
           {
            "colorbar": {
             "outlinewidth": 0,
             "ticks": ""
            },
            "colorscale": [
             [
              0,
              "#0d0887"
             ],
             [
              0.1111111111111111,
              "#46039f"
             ],
             [
              0.2222222222222222,
              "#7201a8"
             ],
             [
              0.3333333333333333,
              "#9c179e"
             ],
             [
              0.4444444444444444,
              "#bd3786"
             ],
             [
              0.5555555555555556,
              "#d8576b"
             ],
             [
              0.6666666666666666,
              "#ed7953"
             ],
             [
              0.7777777777777778,
              "#fb9f3a"
             ],
             [
              0.8888888888888888,
              "#fdca26"
             ],
             [
              1,
              "#f0f921"
             ]
            ],
            "type": "surface"
           }
          ],
          "table": [
           {
            "cells": {
             "fill": {
              "color": "#EBF0F8"
             },
             "line": {
              "color": "white"
             }
            },
            "header": {
             "fill": {
              "color": "#C8D4E3"
             },
             "line": {
              "color": "white"
             }
            },
            "type": "table"
           }
          ]
         },
         "layout": {
          "annotationdefaults": {
           "arrowcolor": "#2a3f5f",
           "arrowhead": 0,
           "arrowwidth": 1
          },
          "coloraxis": {
           "colorbar": {
            "outlinewidth": 0,
            "ticks": ""
           }
          },
          "colorscale": {
           "diverging": [
            [
             0,
             "#8e0152"
            ],
            [
             0.1,
             "#c51b7d"
            ],
            [
             0.2,
             "#de77ae"
            ],
            [
             0.3,
             "#f1b6da"
            ],
            [
             0.4,
             "#fde0ef"
            ],
            [
             0.5,
             "#f7f7f7"
            ],
            [
             0.6,
             "#e6f5d0"
            ],
            [
             0.7,
             "#b8e186"
            ],
            [
             0.8,
             "#7fbc41"
            ],
            [
             0.9,
             "#4d9221"
            ],
            [
             1,
             "#276419"
            ]
           ],
           "sequential": [
            [
             0,
             "#0d0887"
            ],
            [
             0.1111111111111111,
             "#46039f"
            ],
            [
             0.2222222222222222,
             "#7201a8"
            ],
            [
             0.3333333333333333,
             "#9c179e"
            ],
            [
             0.4444444444444444,
             "#bd3786"
            ],
            [
             0.5555555555555556,
             "#d8576b"
            ],
            [
             0.6666666666666666,
             "#ed7953"
            ],
            [
             0.7777777777777778,
             "#fb9f3a"
            ],
            [
             0.8888888888888888,
             "#fdca26"
            ],
            [
             1,
             "#f0f921"
            ]
           ],
           "sequentialminus": [
            [
             0,
             "#0d0887"
            ],
            [
             0.1111111111111111,
             "#46039f"
            ],
            [
             0.2222222222222222,
             "#7201a8"
            ],
            [
             0.3333333333333333,
             "#9c179e"
            ],
            [
             0.4444444444444444,
             "#bd3786"
            ],
            [
             0.5555555555555556,
             "#d8576b"
            ],
            [
             0.6666666666666666,
             "#ed7953"
            ],
            [
             0.7777777777777778,
             "#fb9f3a"
            ],
            [
             0.8888888888888888,
             "#fdca26"
            ],
            [
             1,
             "#f0f921"
            ]
           ]
          },
          "colorway": [
           "#636efa",
           "#EF553B",
           "#00cc96",
           "#ab63fa",
           "#FFA15A",
           "#19d3f3",
           "#FF6692",
           "#B6E880",
           "#FF97FF",
           "#FECB52"
          ],
          "font": {
           "color": "#2a3f5f"
          },
          "geo": {
           "bgcolor": "white",
           "lakecolor": "white",
           "landcolor": "#E5ECF6",
           "showlakes": true,
           "showland": true,
           "subunitcolor": "white"
          },
          "hoverlabel": {
           "align": "left"
          },
          "hovermode": "closest",
          "mapbox": {
           "style": "light"
          },
          "paper_bgcolor": "white",
          "plot_bgcolor": "#E5ECF6",
          "polar": {
           "angularaxis": {
            "gridcolor": "white",
            "linecolor": "white",
            "ticks": ""
           },
           "bgcolor": "#E5ECF6",
           "radialaxis": {
            "gridcolor": "white",
            "linecolor": "white",
            "ticks": ""
           }
          },
          "scene": {
           "xaxis": {
            "backgroundcolor": "#E5ECF6",
            "gridcolor": "white",
            "gridwidth": 2,
            "linecolor": "white",
            "showbackground": true,
            "ticks": "",
            "zerolinecolor": "white"
           },
           "yaxis": {
            "backgroundcolor": "#E5ECF6",
            "gridcolor": "white",
            "gridwidth": 2,
            "linecolor": "white",
            "showbackground": true,
            "ticks": "",
            "zerolinecolor": "white"
           },
           "zaxis": {
            "backgroundcolor": "#E5ECF6",
            "gridcolor": "white",
            "gridwidth": 2,
            "linecolor": "white",
            "showbackground": true,
            "ticks": "",
            "zerolinecolor": "white"
           }
          },
          "shapedefaults": {
           "line": {
            "color": "#2a3f5f"
           }
          },
          "ternary": {
           "aaxis": {
            "gridcolor": "white",
            "linecolor": "white",
            "ticks": ""
           },
           "baxis": {
            "gridcolor": "white",
            "linecolor": "white",
            "ticks": ""
           },
           "bgcolor": "#E5ECF6",
           "caxis": {
            "gridcolor": "white",
            "linecolor": "white",
            "ticks": ""
           }
          },
          "title": {
           "x": 0.05
          },
          "xaxis": {
           "automargin": true,
           "gridcolor": "white",
           "linecolor": "white",
           "ticks": "",
           "title": {
            "standoff": 15
           },
           "zerolinecolor": "white",
           "zerolinewidth": 2
          },
          "yaxis": {
           "automargin": true,
           "gridcolor": "white",
           "linecolor": "white",
           "ticks": "",
           "title": {
            "standoff": 15
           },
           "zerolinecolor": "white",
           "zerolinewidth": 2
          }
         }
        },
        "title": {
         "text": "Top Words Across Posts"
        },
        "xaxis": {
         "anchor": "y",
         "domain": [
          0,
          1
         ],
         "title": {
          "text": "arts_words"
         }
        },
        "yaxis": {
         "anchor": "x",
         "domain": [
          0,
          1
         ],
         "title": {
          "text": "arts_count"
         }
        }
       }
      },
      "text/html": [
       "<div>\n",
       "        \n",
       "        \n",
       "            <div id=\"d6a041da-4cc5-4fd1-bfab-c0a08bf53a92\" class=\"plotly-graph-div\" style=\"height:525px; width:100%;\"></div>\n",
       "            <script type=\"text/javascript\">\n",
       "                require([\"plotly\"], function(Plotly) {\n",
       "                    window.PLOTLYENV=window.PLOTLYENV || {};\n",
       "                    \n",
       "                if (document.getElementById(\"d6a041da-4cc5-4fd1-bfab-c0a08bf53a92\")) {\n",
       "                    Plotly.newPlot(\n",
       "                        'd6a041da-4cc5-4fd1-bfab-c0a08bf53a92',\n",
       "                        [{\"alignmentgroup\": \"True\", \"hoverlabel\": {\"namelength\": 0}, \"hovertemplate\": \"arts_words=%{x}<br>arts_count=%{y}\", \"legendgroup\": \"\", \"marker\": {\"color\": \"#636efa\"}, \"name\": \"\", \"offsetgroup\": \"\", \"orientation\": \"v\", \"showlegend\": false, \"textposition\": \"auto\", \"type\": \"bar\", \"x\": [\"get\", \"like\", \"would\", \"use\", \"look\", \"make\", \"want\", \"work\", \"go\", \"know\", \"one\", \"think\", \"thank\", \"time\", \"need\", \"try\", \"really\", \"find\", \"also\", \"see\"], \"xaxis\": \"x\", \"y\": [15343, 13556, 13483, 12530, 11096, 10128, 9431, 8748, 8011, 7934, 7854, 7070, 7060, 6272, 6169, 5632, 5455, 5234, 5213, 5140], \"yaxis\": \"y\"}],\n",
       "                        {\"barmode\": \"stack\", \"legend\": {\"tracegroupgap\": 0}, \"template\": {\"data\": {\"bar\": [{\"error_x\": {\"color\": \"#2a3f5f\"}, \"error_y\": {\"color\": \"#2a3f5f\"}, \"marker\": {\"line\": {\"color\": \"#E5ECF6\", \"width\": 0.5}}, \"type\": \"bar\"}], \"barpolar\": [{\"marker\": {\"line\": {\"color\": \"#E5ECF6\", \"width\": 0.5}}, \"type\": \"barpolar\"}], \"carpet\": [{\"aaxis\": {\"endlinecolor\": \"#2a3f5f\", \"gridcolor\": \"white\", \"linecolor\": \"white\", \"minorgridcolor\": \"white\", \"startlinecolor\": \"#2a3f5f\"}, \"baxis\": {\"endlinecolor\": \"#2a3f5f\", \"gridcolor\": \"white\", \"linecolor\": \"white\", \"minorgridcolor\": \"white\", \"startlinecolor\": \"#2a3f5f\"}, \"type\": \"carpet\"}], \"choropleth\": [{\"colorbar\": {\"outlinewidth\": 0, \"ticks\": \"\"}, \"type\": \"choropleth\"}], \"contour\": [{\"colorbar\": {\"outlinewidth\": 0, \"ticks\": \"\"}, \"colorscale\": [[0.0, \"#0d0887\"], [0.1111111111111111, \"#46039f\"], [0.2222222222222222, \"#7201a8\"], [0.3333333333333333, \"#9c179e\"], [0.4444444444444444, \"#bd3786\"], [0.5555555555555556, \"#d8576b\"], [0.6666666666666666, \"#ed7953\"], [0.7777777777777778, \"#fb9f3a\"], [0.8888888888888888, \"#fdca26\"], [1.0, \"#f0f921\"]], \"type\": \"contour\"}], \"contourcarpet\": [{\"colorbar\": {\"outlinewidth\": 0, \"ticks\": \"\"}, \"type\": \"contourcarpet\"}], \"heatmap\": [{\"colorbar\": {\"outlinewidth\": 0, \"ticks\": \"\"}, \"colorscale\": [[0.0, \"#0d0887\"], [0.1111111111111111, \"#46039f\"], [0.2222222222222222, \"#7201a8\"], [0.3333333333333333, \"#9c179e\"], [0.4444444444444444, \"#bd3786\"], [0.5555555555555556, \"#d8576b\"], [0.6666666666666666, \"#ed7953\"], [0.7777777777777778, \"#fb9f3a\"], [0.8888888888888888, \"#fdca26\"], [1.0, \"#f0f921\"]], \"type\": \"heatmap\"}], \"heatmapgl\": [{\"colorbar\": {\"outlinewidth\": 0, \"ticks\": \"\"}, \"colorscale\": [[0.0, \"#0d0887\"], [0.1111111111111111, \"#46039f\"], [0.2222222222222222, \"#7201a8\"], [0.3333333333333333, \"#9c179e\"], [0.4444444444444444, \"#bd3786\"], [0.5555555555555556, \"#d8576b\"], [0.6666666666666666, \"#ed7953\"], [0.7777777777777778, \"#fb9f3a\"], [0.8888888888888888, \"#fdca26\"], [1.0, \"#f0f921\"]], \"type\": \"heatmapgl\"}], \"histogram\": [{\"marker\": {\"colorbar\": {\"outlinewidth\": 0, \"ticks\": \"\"}}, \"type\": \"histogram\"}], \"histogram2d\": [{\"colorbar\": {\"outlinewidth\": 0, \"ticks\": \"\"}, \"colorscale\": [[0.0, \"#0d0887\"], [0.1111111111111111, \"#46039f\"], [0.2222222222222222, \"#7201a8\"], [0.3333333333333333, \"#9c179e\"], [0.4444444444444444, \"#bd3786\"], [0.5555555555555556, \"#d8576b\"], [0.6666666666666666, \"#ed7953\"], [0.7777777777777778, \"#fb9f3a\"], [0.8888888888888888, \"#fdca26\"], [1.0, \"#f0f921\"]], \"type\": \"histogram2d\"}], \"histogram2dcontour\": [{\"colorbar\": {\"outlinewidth\": 0, \"ticks\": \"\"}, \"colorscale\": [[0.0, \"#0d0887\"], [0.1111111111111111, \"#46039f\"], [0.2222222222222222, \"#7201a8\"], [0.3333333333333333, \"#9c179e\"], [0.4444444444444444, \"#bd3786\"], [0.5555555555555556, \"#d8576b\"], [0.6666666666666666, \"#ed7953\"], [0.7777777777777778, \"#fb9f3a\"], [0.8888888888888888, \"#fdca26\"], [1.0, \"#f0f921\"]], \"type\": \"histogram2dcontour\"}], \"mesh3d\": [{\"colorbar\": {\"outlinewidth\": 0, \"ticks\": \"\"}, \"type\": \"mesh3d\"}], \"parcoords\": [{\"line\": {\"colorbar\": {\"outlinewidth\": 0, \"ticks\": \"\"}}, \"type\": \"parcoords\"}], \"pie\": [{\"automargin\": true, \"type\": \"pie\"}], \"scatter\": [{\"marker\": {\"colorbar\": {\"outlinewidth\": 0, \"ticks\": \"\"}}, \"type\": \"scatter\"}], \"scatter3d\": [{\"line\": {\"colorbar\": {\"outlinewidth\": 0, \"ticks\": \"\"}}, \"marker\": {\"colorbar\": {\"outlinewidth\": 0, \"ticks\": \"\"}}, \"type\": \"scatter3d\"}], \"scattercarpet\": [{\"marker\": {\"colorbar\": {\"outlinewidth\": 0, \"ticks\": \"\"}}, \"type\": \"scattercarpet\"}], \"scattergeo\": [{\"marker\": {\"colorbar\": {\"outlinewidth\": 0, \"ticks\": \"\"}}, \"type\": \"scattergeo\"}], \"scattergl\": [{\"marker\": {\"colorbar\": {\"outlinewidth\": 0, \"ticks\": \"\"}}, \"type\": \"scattergl\"}], \"scattermapbox\": [{\"marker\": {\"colorbar\": {\"outlinewidth\": 0, \"ticks\": \"\"}}, \"type\": \"scattermapbox\"}], \"scatterpolar\": [{\"marker\": {\"colorbar\": {\"outlinewidth\": 0, \"ticks\": \"\"}}, \"type\": \"scatterpolar\"}], \"scatterpolargl\": [{\"marker\": {\"colorbar\": {\"outlinewidth\": 0, \"ticks\": \"\"}}, \"type\": \"scatterpolargl\"}], \"scatterternary\": [{\"marker\": {\"colorbar\": {\"outlinewidth\": 0, \"ticks\": \"\"}}, \"type\": \"scatterternary\"}], \"surface\": [{\"colorbar\": {\"outlinewidth\": 0, \"ticks\": \"\"}, \"colorscale\": [[0.0, \"#0d0887\"], [0.1111111111111111, \"#46039f\"], [0.2222222222222222, \"#7201a8\"], [0.3333333333333333, \"#9c179e\"], [0.4444444444444444, \"#bd3786\"], [0.5555555555555556, \"#d8576b\"], [0.6666666666666666, \"#ed7953\"], [0.7777777777777778, \"#fb9f3a\"], [0.8888888888888888, \"#fdca26\"], [1.0, \"#f0f921\"]], \"type\": \"surface\"}], \"table\": [{\"cells\": {\"fill\": {\"color\": \"#EBF0F8\"}, \"line\": {\"color\": \"white\"}}, \"header\": {\"fill\": {\"color\": \"#C8D4E3\"}, \"line\": {\"color\": \"white\"}}, \"type\": \"table\"}]}, \"layout\": {\"annotationdefaults\": {\"arrowcolor\": \"#2a3f5f\", \"arrowhead\": 0, \"arrowwidth\": 1}, \"coloraxis\": {\"colorbar\": {\"outlinewidth\": 0, \"ticks\": \"\"}}, \"colorscale\": {\"diverging\": [[0, \"#8e0152\"], [0.1, \"#c51b7d\"], [0.2, \"#de77ae\"], [0.3, \"#f1b6da\"], [0.4, \"#fde0ef\"], [0.5, \"#f7f7f7\"], [0.6, \"#e6f5d0\"], [0.7, \"#b8e186\"], [0.8, \"#7fbc41\"], [0.9, \"#4d9221\"], [1, \"#276419\"]], \"sequential\": [[0.0, \"#0d0887\"], [0.1111111111111111, \"#46039f\"], [0.2222222222222222, \"#7201a8\"], [0.3333333333333333, \"#9c179e\"], [0.4444444444444444, \"#bd3786\"], [0.5555555555555556, \"#d8576b\"], [0.6666666666666666, \"#ed7953\"], [0.7777777777777778, \"#fb9f3a\"], [0.8888888888888888, \"#fdca26\"], [1.0, \"#f0f921\"]], \"sequentialminus\": [[0.0, \"#0d0887\"], [0.1111111111111111, \"#46039f\"], [0.2222222222222222, \"#7201a8\"], [0.3333333333333333, \"#9c179e\"], [0.4444444444444444, \"#bd3786\"], [0.5555555555555556, \"#d8576b\"], [0.6666666666666666, \"#ed7953\"], [0.7777777777777778, \"#fb9f3a\"], [0.8888888888888888, \"#fdca26\"], [1.0, \"#f0f921\"]]}, \"colorway\": [\"#636efa\", \"#EF553B\", \"#00cc96\", \"#ab63fa\", \"#FFA15A\", \"#19d3f3\", \"#FF6692\", \"#B6E880\", \"#FF97FF\", \"#FECB52\"], \"font\": {\"color\": \"#2a3f5f\"}, \"geo\": {\"bgcolor\": \"white\", \"lakecolor\": \"white\", \"landcolor\": \"#E5ECF6\", \"showlakes\": true, \"showland\": true, \"subunitcolor\": \"white\"}, \"hoverlabel\": {\"align\": \"left\"}, \"hovermode\": \"closest\", \"mapbox\": {\"style\": \"light\"}, \"paper_bgcolor\": \"white\", \"plot_bgcolor\": \"#E5ECF6\", \"polar\": {\"angularaxis\": {\"gridcolor\": \"white\", \"linecolor\": \"white\", \"ticks\": \"\"}, \"bgcolor\": \"#E5ECF6\", \"radialaxis\": {\"gridcolor\": \"white\", \"linecolor\": \"white\", \"ticks\": \"\"}}, \"scene\": {\"xaxis\": {\"backgroundcolor\": \"#E5ECF6\", \"gridcolor\": \"white\", \"gridwidth\": 2, \"linecolor\": \"white\", \"showbackground\": true, \"ticks\": \"\", \"zerolinecolor\": \"white\"}, \"yaxis\": {\"backgroundcolor\": \"#E5ECF6\", \"gridcolor\": \"white\", \"gridwidth\": 2, \"linecolor\": \"white\", \"showbackground\": true, \"ticks\": \"\", \"zerolinecolor\": \"white\"}, \"zaxis\": {\"backgroundcolor\": \"#E5ECF6\", \"gridcolor\": \"white\", \"gridwidth\": 2, \"linecolor\": \"white\", \"showbackground\": true, \"ticks\": \"\", \"zerolinecolor\": \"white\"}}, \"shapedefaults\": {\"line\": {\"color\": \"#2a3f5f\"}}, \"ternary\": {\"aaxis\": {\"gridcolor\": \"white\", \"linecolor\": \"white\", \"ticks\": \"\"}, \"baxis\": {\"gridcolor\": \"white\", \"linecolor\": \"white\", \"ticks\": \"\"}, \"bgcolor\": \"#E5ECF6\", \"caxis\": {\"gridcolor\": \"white\", \"linecolor\": \"white\", \"ticks\": \"\"}}, \"title\": {\"x\": 0.05}, \"xaxis\": {\"automargin\": true, \"gridcolor\": \"white\", \"linecolor\": \"white\", \"ticks\": \"\", \"title\": {\"standoff\": 15}, \"zerolinecolor\": \"white\", \"zerolinewidth\": 2}, \"yaxis\": {\"automargin\": true, \"gridcolor\": \"white\", \"linecolor\": \"white\", \"ticks\": \"\", \"title\": {\"standoff\": 15}, \"zerolinecolor\": \"white\", \"zerolinewidth\": 2}}}, \"title\": {\"text\": \"Top Words Across Posts\"}, \"xaxis\": {\"anchor\": \"y\", \"domain\": [0.0, 1.0], \"title\": {\"text\": \"arts_words\"}}, \"yaxis\": {\"anchor\": \"x\", \"domain\": [0.0, 1.0], \"title\": {\"text\": \"arts_count\"}}},\n",
       "                        {\"responsive\": true}\n",
       "                    ).then(function(){\n",
       "                            \n",
       "var gd = document.getElementById('d6a041da-4cc5-4fd1-bfab-c0a08bf53a92');\n",
       "var x = new MutationObserver(function (mutations, observer) {{\n",
       "        var display = window.getComputedStyle(gd).display;\n",
       "        if (!display || display === 'none') {{\n",
       "            console.log([gd, 'removed!']);\n",
       "            Plotly.purge(gd);\n",
       "            observer.disconnect();\n",
       "        }}\n",
       "}});\n",
       "\n",
       "// Listen for the removal of the full notebook cells\n",
       "var notebookContainer = gd.closest('#notebook-container');\n",
       "if (notebookContainer) {{\n",
       "    x.observe(notebookContainer, {childList: true});\n",
       "}}\n",
       "\n",
       "// Listen for the clearing of the current output cell\n",
       "var outputEl = gd.closest('.output');\n",
       "if (outputEl) {{\n",
       "    x.observe(outputEl, {childList: true});\n",
       "}}\n",
       "\n",
       "                        })\n",
       "                };\n",
       "                });\n",
       "            </script>\n",
       "        </div>"
      ]
     },
     "metadata": {},
     "output_type": "display_data"
    }
   ],
   "source": [
    "artwords = px.bar(wordcountdf.iloc[:20], x='arts_words', y='arts_count',\n",
    "                  title='Top Words Across Arts Posts',\n",
    "                  barmode='stack'\n",
    "                 )\n",
    "artwords.show()"
   ]
  },
  {
   "cell_type": "code",
   "execution_count": 82,
   "metadata": {},
   "outputs": [
    {
     "data": {
      "application/vnd.plotly.v1+json": {
       "config": {
        "plotlyServerURL": "https://plot.ly"
       },
       "data": [
        {
         "alignmentgroup": "True",
         "hoverlabel": {
          "namelength": 0
         },
         "hovertemplate": "prg_words=%{x}<br>prg_count=%{y}",
         "legendgroup": "",
         "marker": {
          "color": "#636efa"
         },
         "name": "",
         "offsetgroup": "",
         "orientation": "v",
         "showlegend": false,
         "textposition": "auto",
         "type": "bar",
         "x": [
          "tab",
          "use",
          "get",
          "like",
          "work",
          "would",
          "file",
          "try",
          "code",
          "want",
          "data",
          "make",
          "run",
          "need",
          "new",
          "go",
          "one",
          "know",
          "create",
          "time"
         ],
         "xaxis": "x",
         "y": [
          29529,
          20309,
          12673,
          11932,
          11285,
          11250,
          9826,
          9537,
          8685,
          8546,
          7763,
          7628,
          7258,
          7150,
          7095,
          6692,
          6470,
          6164,
          6146,
          6131
         ],
         "yaxis": "y"
        }
       ],
       "layout": {
        "barmode": "stack",
        "legend": {
         "tracegroupgap": 0
        },
        "template": {
         "data": {
          "bar": [
           {
            "error_x": {
             "color": "#2a3f5f"
            },
            "error_y": {
             "color": "#2a3f5f"
            },
            "marker": {
             "line": {
              "color": "#E5ECF6",
              "width": 0.5
             }
            },
            "type": "bar"
           }
          ],
          "barpolar": [
           {
            "marker": {
             "line": {
              "color": "#E5ECF6",
              "width": 0.5
             }
            },
            "type": "barpolar"
           }
          ],
          "carpet": [
           {
            "aaxis": {
             "endlinecolor": "#2a3f5f",
             "gridcolor": "white",
             "linecolor": "white",
             "minorgridcolor": "white",
             "startlinecolor": "#2a3f5f"
            },
            "baxis": {
             "endlinecolor": "#2a3f5f",
             "gridcolor": "white",
             "linecolor": "white",
             "minorgridcolor": "white",
             "startlinecolor": "#2a3f5f"
            },
            "type": "carpet"
           }
          ],
          "choropleth": [
           {
            "colorbar": {
             "outlinewidth": 0,
             "ticks": ""
            },
            "type": "choropleth"
           }
          ],
          "contour": [
           {
            "colorbar": {
             "outlinewidth": 0,
             "ticks": ""
            },
            "colorscale": [
             [
              0,
              "#0d0887"
             ],
             [
              0.1111111111111111,
              "#46039f"
             ],
             [
              0.2222222222222222,
              "#7201a8"
             ],
             [
              0.3333333333333333,
              "#9c179e"
             ],
             [
              0.4444444444444444,
              "#bd3786"
             ],
             [
              0.5555555555555556,
              "#d8576b"
             ],
             [
              0.6666666666666666,
              "#ed7953"
             ],
             [
              0.7777777777777778,
              "#fb9f3a"
             ],
             [
              0.8888888888888888,
              "#fdca26"
             ],
             [
              1,
              "#f0f921"
             ]
            ],
            "type": "contour"
           }
          ],
          "contourcarpet": [
           {
            "colorbar": {
             "outlinewidth": 0,
             "ticks": ""
            },
            "type": "contourcarpet"
           }
          ],
          "heatmap": [
           {
            "colorbar": {
             "outlinewidth": 0,
             "ticks": ""
            },
            "colorscale": [
             [
              0,
              "#0d0887"
             ],
             [
              0.1111111111111111,
              "#46039f"
             ],
             [
              0.2222222222222222,
              "#7201a8"
             ],
             [
              0.3333333333333333,
              "#9c179e"
             ],
             [
              0.4444444444444444,
              "#bd3786"
             ],
             [
              0.5555555555555556,
              "#d8576b"
             ],
             [
              0.6666666666666666,
              "#ed7953"
             ],
             [
              0.7777777777777778,
              "#fb9f3a"
             ],
             [
              0.8888888888888888,
              "#fdca26"
             ],
             [
              1,
              "#f0f921"
             ]
            ],
            "type": "heatmap"
           }
          ],
          "heatmapgl": [
           {
            "colorbar": {
             "outlinewidth": 0,
             "ticks": ""
            },
            "colorscale": [
             [
              0,
              "#0d0887"
             ],
             [
              0.1111111111111111,
              "#46039f"
             ],
             [
              0.2222222222222222,
              "#7201a8"
             ],
             [
              0.3333333333333333,
              "#9c179e"
             ],
             [
              0.4444444444444444,
              "#bd3786"
             ],
             [
              0.5555555555555556,
              "#d8576b"
             ],
             [
              0.6666666666666666,
              "#ed7953"
             ],
             [
              0.7777777777777778,
              "#fb9f3a"
             ],
             [
              0.8888888888888888,
              "#fdca26"
             ],
             [
              1,
              "#f0f921"
             ]
            ],
            "type": "heatmapgl"
           }
          ],
          "histogram": [
           {
            "marker": {
             "colorbar": {
              "outlinewidth": 0,
              "ticks": ""
             }
            },
            "type": "histogram"
           }
          ],
          "histogram2d": [
           {
            "colorbar": {
             "outlinewidth": 0,
             "ticks": ""
            },
            "colorscale": [
             [
              0,
              "#0d0887"
             ],
             [
              0.1111111111111111,
              "#46039f"
             ],
             [
              0.2222222222222222,
              "#7201a8"
             ],
             [
              0.3333333333333333,
              "#9c179e"
             ],
             [
              0.4444444444444444,
              "#bd3786"
             ],
             [
              0.5555555555555556,
              "#d8576b"
             ],
             [
              0.6666666666666666,
              "#ed7953"
             ],
             [
              0.7777777777777778,
              "#fb9f3a"
             ],
             [
              0.8888888888888888,
              "#fdca26"
             ],
             [
              1,
              "#f0f921"
             ]
            ],
            "type": "histogram2d"
           }
          ],
          "histogram2dcontour": [
           {
            "colorbar": {
             "outlinewidth": 0,
             "ticks": ""
            },
            "colorscale": [
             [
              0,
              "#0d0887"
             ],
             [
              0.1111111111111111,
              "#46039f"
             ],
             [
              0.2222222222222222,
              "#7201a8"
             ],
             [
              0.3333333333333333,
              "#9c179e"
             ],
             [
              0.4444444444444444,
              "#bd3786"
             ],
             [
              0.5555555555555556,
              "#d8576b"
             ],
             [
              0.6666666666666666,
              "#ed7953"
             ],
             [
              0.7777777777777778,
              "#fb9f3a"
             ],
             [
              0.8888888888888888,
              "#fdca26"
             ],
             [
              1,
              "#f0f921"
             ]
            ],
            "type": "histogram2dcontour"
           }
          ],
          "mesh3d": [
           {
            "colorbar": {
             "outlinewidth": 0,
             "ticks": ""
            },
            "type": "mesh3d"
           }
          ],
          "parcoords": [
           {
            "line": {
             "colorbar": {
              "outlinewidth": 0,
              "ticks": ""
             }
            },
            "type": "parcoords"
           }
          ],
          "pie": [
           {
            "automargin": true,
            "type": "pie"
           }
          ],
          "scatter": [
           {
            "marker": {
             "colorbar": {
              "outlinewidth": 0,
              "ticks": ""
             }
            },
            "type": "scatter"
           }
          ],
          "scatter3d": [
           {
            "line": {
             "colorbar": {
              "outlinewidth": 0,
              "ticks": ""
             }
            },
            "marker": {
             "colorbar": {
              "outlinewidth": 0,
              "ticks": ""
             }
            },
            "type": "scatter3d"
           }
          ],
          "scattercarpet": [
           {
            "marker": {
             "colorbar": {
              "outlinewidth": 0,
              "ticks": ""
             }
            },
            "type": "scattercarpet"
           }
          ],
          "scattergeo": [
           {
            "marker": {
             "colorbar": {
              "outlinewidth": 0,
              "ticks": ""
             }
            },
            "type": "scattergeo"
           }
          ],
          "scattergl": [
           {
            "marker": {
             "colorbar": {
              "outlinewidth": 0,
              "ticks": ""
             }
            },
            "type": "scattergl"
           }
          ],
          "scattermapbox": [
           {
            "marker": {
             "colorbar": {
              "outlinewidth": 0,
              "ticks": ""
             }
            },
            "type": "scattermapbox"
           }
          ],
          "scatterpolar": [
           {
            "marker": {
             "colorbar": {
              "outlinewidth": 0,
              "ticks": ""
             }
            },
            "type": "scatterpolar"
           }
          ],
          "scatterpolargl": [
           {
            "marker": {
             "colorbar": {
              "outlinewidth": 0,
              "ticks": ""
             }
            },
            "type": "scatterpolargl"
           }
          ],
          "scatterternary": [
           {
            "marker": {
             "colorbar": {
              "outlinewidth": 0,
              "ticks": ""
             }
            },
            "type": "scatterternary"
           }
          ],
          "surface": [
           {
            "colorbar": {
             "outlinewidth": 0,
             "ticks": ""
            },
            "colorscale": [
             [
              0,
              "#0d0887"
             ],
             [
              0.1111111111111111,
              "#46039f"
             ],
             [
              0.2222222222222222,
              "#7201a8"
             ],
             [
              0.3333333333333333,
              "#9c179e"
             ],
             [
              0.4444444444444444,
              "#bd3786"
             ],
             [
              0.5555555555555556,
              "#d8576b"
             ],
             [
              0.6666666666666666,
              "#ed7953"
             ],
             [
              0.7777777777777778,
              "#fb9f3a"
             ],
             [
              0.8888888888888888,
              "#fdca26"
             ],
             [
              1,
              "#f0f921"
             ]
            ],
            "type": "surface"
           }
          ],
          "table": [
           {
            "cells": {
             "fill": {
              "color": "#EBF0F8"
             },
             "line": {
              "color": "white"
             }
            },
            "header": {
             "fill": {
              "color": "#C8D4E3"
             },
             "line": {
              "color": "white"
             }
            },
            "type": "table"
           }
          ]
         },
         "layout": {
          "annotationdefaults": {
           "arrowcolor": "#2a3f5f",
           "arrowhead": 0,
           "arrowwidth": 1
          },
          "coloraxis": {
           "colorbar": {
            "outlinewidth": 0,
            "ticks": ""
           }
          },
          "colorscale": {
           "diverging": [
            [
             0,
             "#8e0152"
            ],
            [
             0.1,
             "#c51b7d"
            ],
            [
             0.2,
             "#de77ae"
            ],
            [
             0.3,
             "#f1b6da"
            ],
            [
             0.4,
             "#fde0ef"
            ],
            [
             0.5,
             "#f7f7f7"
            ],
            [
             0.6,
             "#e6f5d0"
            ],
            [
             0.7,
             "#b8e186"
            ],
            [
             0.8,
             "#7fbc41"
            ],
            [
             0.9,
             "#4d9221"
            ],
            [
             1,
             "#276419"
            ]
           ],
           "sequential": [
            [
             0,
             "#0d0887"
            ],
            [
             0.1111111111111111,
             "#46039f"
            ],
            [
             0.2222222222222222,
             "#7201a8"
            ],
            [
             0.3333333333333333,
             "#9c179e"
            ],
            [
             0.4444444444444444,
             "#bd3786"
            ],
            [
             0.5555555555555556,
             "#d8576b"
            ],
            [
             0.6666666666666666,
             "#ed7953"
            ],
            [
             0.7777777777777778,
             "#fb9f3a"
            ],
            [
             0.8888888888888888,
             "#fdca26"
            ],
            [
             1,
             "#f0f921"
            ]
           ],
           "sequentialminus": [
            [
             0,
             "#0d0887"
            ],
            [
             0.1111111111111111,
             "#46039f"
            ],
            [
             0.2222222222222222,
             "#7201a8"
            ],
            [
             0.3333333333333333,
             "#9c179e"
            ],
            [
             0.4444444444444444,
             "#bd3786"
            ],
            [
             0.5555555555555556,
             "#d8576b"
            ],
            [
             0.6666666666666666,
             "#ed7953"
            ],
            [
             0.7777777777777778,
             "#fb9f3a"
            ],
            [
             0.8888888888888888,
             "#fdca26"
            ],
            [
             1,
             "#f0f921"
            ]
           ]
          },
          "colorway": [
           "#636efa",
           "#EF553B",
           "#00cc96",
           "#ab63fa",
           "#FFA15A",
           "#19d3f3",
           "#FF6692",
           "#B6E880",
           "#FF97FF",
           "#FECB52"
          ],
          "font": {
           "color": "#2a3f5f"
          },
          "geo": {
           "bgcolor": "white",
           "lakecolor": "white",
           "landcolor": "#E5ECF6",
           "showlakes": true,
           "showland": true,
           "subunitcolor": "white"
          },
          "hoverlabel": {
           "align": "left"
          },
          "hovermode": "closest",
          "mapbox": {
           "style": "light"
          },
          "paper_bgcolor": "white",
          "plot_bgcolor": "#E5ECF6",
          "polar": {
           "angularaxis": {
            "gridcolor": "white",
            "linecolor": "white",
            "ticks": ""
           },
           "bgcolor": "#E5ECF6",
           "radialaxis": {
            "gridcolor": "white",
            "linecolor": "white",
            "ticks": ""
           }
          },
          "scene": {
           "xaxis": {
            "backgroundcolor": "#E5ECF6",
            "gridcolor": "white",
            "gridwidth": 2,
            "linecolor": "white",
            "showbackground": true,
            "ticks": "",
            "zerolinecolor": "white"
           },
           "yaxis": {
            "backgroundcolor": "#E5ECF6",
            "gridcolor": "white",
            "gridwidth": 2,
            "linecolor": "white",
            "showbackground": true,
            "ticks": "",
            "zerolinecolor": "white"
           },
           "zaxis": {
            "backgroundcolor": "#E5ECF6",
            "gridcolor": "white",
            "gridwidth": 2,
            "linecolor": "white",
            "showbackground": true,
            "ticks": "",
            "zerolinecolor": "white"
           }
          },
          "shapedefaults": {
           "line": {
            "color": "#2a3f5f"
           }
          },
          "ternary": {
           "aaxis": {
            "gridcolor": "white",
            "linecolor": "white",
            "ticks": ""
           },
           "baxis": {
            "gridcolor": "white",
            "linecolor": "white",
            "ticks": ""
           },
           "bgcolor": "#E5ECF6",
           "caxis": {
            "gridcolor": "white",
            "linecolor": "white",
            "ticks": ""
           }
          },
          "title": {
           "x": 0.05
          },
          "xaxis": {
           "automargin": true,
           "gridcolor": "white",
           "linecolor": "white",
           "ticks": "",
           "title": {
            "standoff": 15
           },
           "zerolinecolor": "white",
           "zerolinewidth": 2
          },
          "yaxis": {
           "automargin": true,
           "gridcolor": "white",
           "linecolor": "white",
           "ticks": "",
           "title": {
            "standoff": 15
           },
           "zerolinecolor": "white",
           "zerolinewidth": 2
          }
         }
        },
        "title": {
         "text": "Top Words Across Programming Posts"
        },
        "xaxis": {
         "anchor": "y",
         "domain": [
          0,
          1
         ],
         "title": {
          "text": "prg_words"
         }
        },
        "yaxis": {
         "anchor": "x",
         "domain": [
          0,
          1
         ],
         "title": {
          "text": "prg_count"
         }
        }
       }
      },
      "text/html": [
       "<div>\n",
       "        \n",
       "        \n",
       "            <div id=\"c082b83d-5c3f-4076-863f-b08804389719\" class=\"plotly-graph-div\" style=\"height:525px; width:100%;\"></div>\n",
       "            <script type=\"text/javascript\">\n",
       "                require([\"plotly\"], function(Plotly) {\n",
       "                    window.PLOTLYENV=window.PLOTLYENV || {};\n",
       "                    \n",
       "                if (document.getElementById(\"c082b83d-5c3f-4076-863f-b08804389719\")) {\n",
       "                    Plotly.newPlot(\n",
       "                        'c082b83d-5c3f-4076-863f-b08804389719',\n",
       "                        [{\"alignmentgroup\": \"True\", \"hoverlabel\": {\"namelength\": 0}, \"hovertemplate\": \"prg_words=%{x}<br>prg_count=%{y}\", \"legendgroup\": \"\", \"marker\": {\"color\": \"#636efa\"}, \"name\": \"\", \"offsetgroup\": \"\", \"orientation\": \"v\", \"showlegend\": false, \"textposition\": \"auto\", \"type\": \"bar\", \"x\": [\"tab\", \"use\", \"get\", \"like\", \"work\", \"would\", \"file\", \"try\", \"code\", \"want\", \"data\", \"make\", \"run\", \"need\", \"new\", \"go\", \"one\", \"know\", \"create\", \"time\"], \"xaxis\": \"x\", \"y\": [29529, 20309, 12673, 11932, 11285, 11250, 9826, 9537, 8685, 8546, 7763, 7628, 7258, 7150, 7095, 6692, 6470, 6164, 6146, 6131], \"yaxis\": \"y\"}],\n",
       "                        {\"barmode\": \"stack\", \"legend\": {\"tracegroupgap\": 0}, \"template\": {\"data\": {\"bar\": [{\"error_x\": {\"color\": \"#2a3f5f\"}, \"error_y\": {\"color\": \"#2a3f5f\"}, \"marker\": {\"line\": {\"color\": \"#E5ECF6\", \"width\": 0.5}}, \"type\": \"bar\"}], \"barpolar\": [{\"marker\": {\"line\": {\"color\": \"#E5ECF6\", \"width\": 0.5}}, \"type\": \"barpolar\"}], \"carpet\": [{\"aaxis\": {\"endlinecolor\": \"#2a3f5f\", \"gridcolor\": \"white\", \"linecolor\": \"white\", \"minorgridcolor\": \"white\", \"startlinecolor\": \"#2a3f5f\"}, \"baxis\": {\"endlinecolor\": \"#2a3f5f\", \"gridcolor\": \"white\", \"linecolor\": \"white\", \"minorgridcolor\": \"white\", \"startlinecolor\": \"#2a3f5f\"}, \"type\": \"carpet\"}], \"choropleth\": [{\"colorbar\": {\"outlinewidth\": 0, \"ticks\": \"\"}, \"type\": \"choropleth\"}], \"contour\": [{\"colorbar\": {\"outlinewidth\": 0, \"ticks\": \"\"}, \"colorscale\": [[0.0, \"#0d0887\"], [0.1111111111111111, \"#46039f\"], [0.2222222222222222, \"#7201a8\"], [0.3333333333333333, \"#9c179e\"], [0.4444444444444444, \"#bd3786\"], [0.5555555555555556, \"#d8576b\"], [0.6666666666666666, \"#ed7953\"], [0.7777777777777778, \"#fb9f3a\"], [0.8888888888888888, \"#fdca26\"], [1.0, \"#f0f921\"]], \"type\": \"contour\"}], \"contourcarpet\": [{\"colorbar\": {\"outlinewidth\": 0, \"ticks\": \"\"}, \"type\": \"contourcarpet\"}], \"heatmap\": [{\"colorbar\": {\"outlinewidth\": 0, \"ticks\": \"\"}, \"colorscale\": [[0.0, \"#0d0887\"], [0.1111111111111111, \"#46039f\"], [0.2222222222222222, \"#7201a8\"], [0.3333333333333333, \"#9c179e\"], [0.4444444444444444, \"#bd3786\"], [0.5555555555555556, \"#d8576b\"], [0.6666666666666666, \"#ed7953\"], [0.7777777777777778, \"#fb9f3a\"], [0.8888888888888888, \"#fdca26\"], [1.0, \"#f0f921\"]], \"type\": \"heatmap\"}], \"heatmapgl\": [{\"colorbar\": {\"outlinewidth\": 0, \"ticks\": \"\"}, \"colorscale\": [[0.0, \"#0d0887\"], [0.1111111111111111, \"#46039f\"], [0.2222222222222222, \"#7201a8\"], [0.3333333333333333, \"#9c179e\"], [0.4444444444444444, \"#bd3786\"], [0.5555555555555556, \"#d8576b\"], [0.6666666666666666, \"#ed7953\"], [0.7777777777777778, \"#fb9f3a\"], [0.8888888888888888, \"#fdca26\"], [1.0, \"#f0f921\"]], \"type\": \"heatmapgl\"}], \"histogram\": [{\"marker\": {\"colorbar\": {\"outlinewidth\": 0, \"ticks\": \"\"}}, \"type\": \"histogram\"}], \"histogram2d\": [{\"colorbar\": {\"outlinewidth\": 0, \"ticks\": \"\"}, \"colorscale\": [[0.0, \"#0d0887\"], [0.1111111111111111, \"#46039f\"], [0.2222222222222222, \"#7201a8\"], [0.3333333333333333, \"#9c179e\"], [0.4444444444444444, \"#bd3786\"], [0.5555555555555556, \"#d8576b\"], [0.6666666666666666, \"#ed7953\"], [0.7777777777777778, \"#fb9f3a\"], [0.8888888888888888, \"#fdca26\"], [1.0, \"#f0f921\"]], \"type\": \"histogram2d\"}], \"histogram2dcontour\": [{\"colorbar\": {\"outlinewidth\": 0, \"ticks\": \"\"}, \"colorscale\": [[0.0, \"#0d0887\"], [0.1111111111111111, \"#46039f\"], [0.2222222222222222, \"#7201a8\"], [0.3333333333333333, \"#9c179e\"], [0.4444444444444444, \"#bd3786\"], [0.5555555555555556, \"#d8576b\"], [0.6666666666666666, \"#ed7953\"], [0.7777777777777778, \"#fb9f3a\"], [0.8888888888888888, \"#fdca26\"], [1.0, \"#f0f921\"]], \"type\": \"histogram2dcontour\"}], \"mesh3d\": [{\"colorbar\": {\"outlinewidth\": 0, \"ticks\": \"\"}, \"type\": \"mesh3d\"}], \"parcoords\": [{\"line\": {\"colorbar\": {\"outlinewidth\": 0, \"ticks\": \"\"}}, \"type\": \"parcoords\"}], \"pie\": [{\"automargin\": true, \"type\": \"pie\"}], \"scatter\": [{\"marker\": {\"colorbar\": {\"outlinewidth\": 0, \"ticks\": \"\"}}, \"type\": \"scatter\"}], \"scatter3d\": [{\"line\": {\"colorbar\": {\"outlinewidth\": 0, \"ticks\": \"\"}}, \"marker\": {\"colorbar\": {\"outlinewidth\": 0, \"ticks\": \"\"}}, \"type\": \"scatter3d\"}], \"scattercarpet\": [{\"marker\": {\"colorbar\": {\"outlinewidth\": 0, \"ticks\": \"\"}}, \"type\": \"scattercarpet\"}], \"scattergeo\": [{\"marker\": {\"colorbar\": {\"outlinewidth\": 0, \"ticks\": \"\"}}, \"type\": \"scattergeo\"}], \"scattergl\": [{\"marker\": {\"colorbar\": {\"outlinewidth\": 0, \"ticks\": \"\"}}, \"type\": \"scattergl\"}], \"scattermapbox\": [{\"marker\": {\"colorbar\": {\"outlinewidth\": 0, \"ticks\": \"\"}}, \"type\": \"scattermapbox\"}], \"scatterpolar\": [{\"marker\": {\"colorbar\": {\"outlinewidth\": 0, \"ticks\": \"\"}}, \"type\": \"scatterpolar\"}], \"scatterpolargl\": [{\"marker\": {\"colorbar\": {\"outlinewidth\": 0, \"ticks\": \"\"}}, \"type\": \"scatterpolargl\"}], \"scatterternary\": [{\"marker\": {\"colorbar\": {\"outlinewidth\": 0, \"ticks\": \"\"}}, \"type\": \"scatterternary\"}], \"surface\": [{\"colorbar\": {\"outlinewidth\": 0, \"ticks\": \"\"}, \"colorscale\": [[0.0, \"#0d0887\"], [0.1111111111111111, \"#46039f\"], [0.2222222222222222, \"#7201a8\"], [0.3333333333333333, \"#9c179e\"], [0.4444444444444444, \"#bd3786\"], [0.5555555555555556, \"#d8576b\"], [0.6666666666666666, \"#ed7953\"], [0.7777777777777778, \"#fb9f3a\"], [0.8888888888888888, \"#fdca26\"], [1.0, \"#f0f921\"]], \"type\": \"surface\"}], \"table\": [{\"cells\": {\"fill\": {\"color\": \"#EBF0F8\"}, \"line\": {\"color\": \"white\"}}, \"header\": {\"fill\": {\"color\": \"#C8D4E3\"}, \"line\": {\"color\": \"white\"}}, \"type\": \"table\"}]}, \"layout\": {\"annotationdefaults\": {\"arrowcolor\": \"#2a3f5f\", \"arrowhead\": 0, \"arrowwidth\": 1}, \"coloraxis\": {\"colorbar\": {\"outlinewidth\": 0, \"ticks\": \"\"}}, \"colorscale\": {\"diverging\": [[0, \"#8e0152\"], [0.1, \"#c51b7d\"], [0.2, \"#de77ae\"], [0.3, \"#f1b6da\"], [0.4, \"#fde0ef\"], [0.5, \"#f7f7f7\"], [0.6, \"#e6f5d0\"], [0.7, \"#b8e186\"], [0.8, \"#7fbc41\"], [0.9, \"#4d9221\"], [1, \"#276419\"]], \"sequential\": [[0.0, \"#0d0887\"], [0.1111111111111111, \"#46039f\"], [0.2222222222222222, \"#7201a8\"], [0.3333333333333333, \"#9c179e\"], [0.4444444444444444, \"#bd3786\"], [0.5555555555555556, \"#d8576b\"], [0.6666666666666666, \"#ed7953\"], [0.7777777777777778, \"#fb9f3a\"], [0.8888888888888888, \"#fdca26\"], [1.0, \"#f0f921\"]], \"sequentialminus\": [[0.0, \"#0d0887\"], [0.1111111111111111, \"#46039f\"], [0.2222222222222222, \"#7201a8\"], [0.3333333333333333, \"#9c179e\"], [0.4444444444444444, \"#bd3786\"], [0.5555555555555556, \"#d8576b\"], [0.6666666666666666, \"#ed7953\"], [0.7777777777777778, \"#fb9f3a\"], [0.8888888888888888, \"#fdca26\"], [1.0, \"#f0f921\"]]}, \"colorway\": [\"#636efa\", \"#EF553B\", \"#00cc96\", \"#ab63fa\", \"#FFA15A\", \"#19d3f3\", \"#FF6692\", \"#B6E880\", \"#FF97FF\", \"#FECB52\"], \"font\": {\"color\": \"#2a3f5f\"}, \"geo\": {\"bgcolor\": \"white\", \"lakecolor\": \"white\", \"landcolor\": \"#E5ECF6\", \"showlakes\": true, \"showland\": true, \"subunitcolor\": \"white\"}, \"hoverlabel\": {\"align\": \"left\"}, \"hovermode\": \"closest\", \"mapbox\": {\"style\": \"light\"}, \"paper_bgcolor\": \"white\", \"plot_bgcolor\": \"#E5ECF6\", \"polar\": {\"angularaxis\": {\"gridcolor\": \"white\", \"linecolor\": \"white\", \"ticks\": \"\"}, \"bgcolor\": \"#E5ECF6\", \"radialaxis\": {\"gridcolor\": \"white\", \"linecolor\": \"white\", \"ticks\": \"\"}}, \"scene\": {\"xaxis\": {\"backgroundcolor\": \"#E5ECF6\", \"gridcolor\": \"white\", \"gridwidth\": 2, \"linecolor\": \"white\", \"showbackground\": true, \"ticks\": \"\", \"zerolinecolor\": \"white\"}, \"yaxis\": {\"backgroundcolor\": \"#E5ECF6\", \"gridcolor\": \"white\", \"gridwidth\": 2, \"linecolor\": \"white\", \"showbackground\": true, \"ticks\": \"\", \"zerolinecolor\": \"white\"}, \"zaxis\": {\"backgroundcolor\": \"#E5ECF6\", \"gridcolor\": \"white\", \"gridwidth\": 2, \"linecolor\": \"white\", \"showbackground\": true, \"ticks\": \"\", \"zerolinecolor\": \"white\"}}, \"shapedefaults\": {\"line\": {\"color\": \"#2a3f5f\"}}, \"ternary\": {\"aaxis\": {\"gridcolor\": \"white\", \"linecolor\": \"white\", \"ticks\": \"\"}, \"baxis\": {\"gridcolor\": \"white\", \"linecolor\": \"white\", \"ticks\": \"\"}, \"bgcolor\": \"#E5ECF6\", \"caxis\": {\"gridcolor\": \"white\", \"linecolor\": \"white\", \"ticks\": \"\"}}, \"title\": {\"x\": 0.05}, \"xaxis\": {\"automargin\": true, \"gridcolor\": \"white\", \"linecolor\": \"white\", \"ticks\": \"\", \"title\": {\"standoff\": 15}, \"zerolinecolor\": \"white\", \"zerolinewidth\": 2}, \"yaxis\": {\"automargin\": true, \"gridcolor\": \"white\", \"linecolor\": \"white\", \"ticks\": \"\", \"title\": {\"standoff\": 15}, \"zerolinecolor\": \"white\", \"zerolinewidth\": 2}}}, \"title\": {\"text\": \"Top Words Across Programming Posts\"}, \"xaxis\": {\"anchor\": \"y\", \"domain\": [0.0, 1.0], \"title\": {\"text\": \"prg_words\"}}, \"yaxis\": {\"anchor\": \"x\", \"domain\": [0.0, 1.0], \"title\": {\"text\": \"prg_count\"}}},\n",
       "                        {\"responsive\": true}\n",
       "                    ).then(function(){\n",
       "                            \n",
       "var gd = document.getElementById('c082b83d-5c3f-4076-863f-b08804389719');\n",
       "var x = new MutationObserver(function (mutations, observer) {{\n",
       "        var display = window.getComputedStyle(gd).display;\n",
       "        if (!display || display === 'none') {{\n",
       "            console.log([gd, 'removed!']);\n",
       "            Plotly.purge(gd);\n",
       "            observer.disconnect();\n",
       "        }}\n",
       "}});\n",
       "\n",
       "// Listen for the removal of the full notebook cells\n",
       "var notebookContainer = gd.closest('#notebook-container');\n",
       "if (notebookContainer) {{\n",
       "    x.observe(notebookContainer, {childList: true});\n",
       "}}\n",
       "\n",
       "// Listen for the clearing of the current output cell\n",
       "var outputEl = gd.closest('.output');\n",
       "if (outputEl) {{\n",
       "    x.observe(outputEl, {childList: true});\n",
       "}}\n",
       "\n",
       "                        })\n",
       "                };\n",
       "                });\n",
       "            </script>\n",
       "        </div>"
      ]
     },
     "metadata": {},
     "output_type": "display_data"
    }
   ],
   "source": [
    "artwords = px.bar(wordcountdf.iloc[:20], x='prg_words', y='prg_count',\n",
    "                  title='Top Words Across Programming Posts',\n",
    "                  barmode='stack'\n",
    "                 )\n",
    "artwords.show()"
   ]
  },
  {
   "cell_type": "code",
   "execution_count": null,
   "metadata": {},
   "outputs": [],
   "source": []
  },
  {
   "cell_type": "code",
   "execution_count": null,
   "metadata": {},
   "outputs": [],
   "source": []
  },
  {
   "cell_type": "code",
   "execution_count": null,
   "metadata": {},
   "outputs": [],
   "source": []
  },
  {
   "cell_type": "code",
   "execution_count": null,
   "metadata": {},
   "outputs": [],
   "source": []
  }
 ],
 "metadata": {
  "kernelspec": {
   "display_name": "Python 3",
   "language": "python",
   "name": "python3"
  },
  "language_info": {
   "codemirror_mode": {
    "name": "ipython",
    "version": 3
   },
   "file_extension": ".py",
   "mimetype": "text/x-python",
   "name": "python",
   "nbconvert_exporter": "python",
   "pygments_lexer": "ipython3",
   "version": "3.7.2"
  },
  "toc": {
   "base_numbering": 1,
   "nav_menu": {},
   "number_sections": false,
   "sideBar": true,
   "skip_h1_title": false,
   "title_cell": "Table of Contents",
   "title_sidebar": "Contents",
   "toc_cell": false,
   "toc_position": {},
   "toc_section_display": true,
   "toc_window_display": false
  }
 },
 "nbformat": 4,
 "nbformat_minor": 2
}
