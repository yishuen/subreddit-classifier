{
 "cells": [
  {
   "cell_type": "markdown",
   "metadata": {},
   "source": [
    "# Reddit Post Classifier: Modelling\n",
    "\n",
    "This notebook contains the model training/tuning/selection processes."
   ]
  },
  {
   "cell_type": "code",
   "execution_count": 90,
   "metadata": {},
   "outputs": [],
   "source": [
    "import numpy as np\n",
    "import pandas as pd\n",
    "import pickle\n",
    "from sklearn.model_selection import train_test_split\n",
    "\n",
    "from sklearn.feature_extraction.text import TfidfVectorizer\n",
    "\n",
    "import nltk\n",
    "from nltk.corpus import stopwords\n",
    "from nltk.stem import WordNetLemmatizer\n",
    "wordnet_lemmatizer = WordNetLemmatizer()\n",
    "english = set(nltk.corpus.words.words())\n",
    "\n",
    "import time\n",
    "\n",
    "from sklearn.neighbors import KNeighborsClassifier\n",
    "\n",
    "from sklearn.tree import DecisionTreeClassifier\n",
    "from sklearn.ensemble import BaggingClassifier, RandomForestClassifier\n",
    "\n",
    "from sklearn.ensemble import AdaBoostClassifier, GradientBoostingClassifier\n",
    "import xgboost as xgb\n",
    "\n",
    "from sklearn.decomposition import PCA\n",
    "from sklearn import svm\n",
    "\n",
    "from sklearn.naive_bayes import MultinomialNB\n",
    "from sklearn.metrics import precision_score, recall_score, accuracy_score, f1_score"
   ]
  },
  {
   "cell_type": "markdown",
   "metadata": {
    "heading_collapsed": true
   },
   "source": [
    "## 1. Grabbing Data and Further Processing"
   ]
  },
  {
   "cell_type": "code",
   "execution_count": 23,
   "metadata": {
    "hidden": true
   },
   "outputs": [],
   "source": [
    "x = pd.read_csv('data/lemmatized.csv')['0']\n",
    "posts = pd.read_csv('data/arts-programming-reddit-posts.csv')\n",
    "y = posts.label"
   ]
  },
  {
   "cell_type": "code",
   "execution_count": 24,
   "metadata": {
    "hidden": true
   },
   "outputs": [],
   "source": [
    "x_train, x_test, y_train, y_test = train_test_split(x, y, test_size = 0.2)"
   ]
  },
  {
   "cell_type": "markdown",
   "metadata": {
    "hidden": true
   },
   "source": [
    "### a. Preprocessing Pipeline"
   ]
  },
  {
   "cell_type": "code",
   "execution_count": 9,
   "metadata": {
    "hidden": true
   },
   "outputs": [],
   "source": [
    "# 1. tfidf vectorizer\n",
    "\n",
    "tfidf = TfidfVectorizer()\n",
    "response = tfidf.fit_transform(x_train)\n",
    "tfidf_df = pd.DataFrame(response.toarray(), columns=tfidf.get_feature_names())\n",
    "\n",
    "# pickle this\n",
    "pickle.dump(tfidf, open(\"pickles/tfidf.pkl\", \"wb\"))"
   ]
  },
  {
   "cell_type": "code",
   "execution_count": 10,
   "metadata": {
    "hidden": true
   },
   "outputs": [
    {
     "data": {
      "text/plain": [
       "4901"
      ]
     },
     "execution_count": 10,
     "metadata": {},
     "output_type": "execute_result"
    }
   ],
   "source": [
    "# 2. only keep words w average tfidf scores over 0.0001\n",
    "\n",
    "relevant = []\n",
    "for word in tfidf_df.columns:\n",
    "    if tfidf_df[word].mean() > 0.0001:\n",
    "        relevant.append(tfidf_df[word])\n",
    "len(relevant)"
   ]
  },
  {
   "cell_type": "code",
   "execution_count": 11,
   "metadata": {
    "hidden": true
   },
   "outputs": [],
   "source": [
    "# 3. we need to save the relevant words to process test data\n",
    "\n",
    "relevant_df = pd.DataFrame(relevant).transpose()\n",
    "pickle.dump(relevant_df.columns, open(\"pickles/relevantwords.pkl\", \"wb\"))"
   ]
  },
  {
   "cell_type": "code",
   "execution_count": 12,
   "metadata": {
    "hidden": true
   },
   "outputs": [],
   "source": [
    "# 4. pipeline for processing test data\n",
    "\n",
    "def preprocess(data):\n",
    "    \n",
    "    # lemmatize\n",
    "    def lemmadata(doc):\n",
    "        pattern = \"([a-zA-Z]+(?:'[a-z]+)?)\"\n",
    "        raw_tokens = nltk.regexp_tokenize(doc, pattern)\n",
    "        tokens = [i.lower() for i in raw_tokens]\n",
    "        stop_words = set(stopwords.words('english'))\n",
    "        listed = [w for w in tokens if not w in stop_words]\n",
    "        lemmatized = [wordnet_lemmatizer.lemmatize(word, pos=\"v\") for word in listed]\n",
    "        lemmatized = list(filter(lambda w: w != 'lb', lemmatized))\n",
    "        words = list(filter(lambda w: w in english, lemmatized))\n",
    "        return \" \".join(words)\n",
    "    \n",
    "    lemmatized = [lemmadata(post) for post in data]\n",
    "    \n",
    "    tfidf = pickle.load(open(\"pickles/tfidf.pkl\", \"rb\"))\n",
    "    \n",
    "    transformed = tfidf.transform(lemmatized)\n",
    "    tfidf_df = pd.DataFrame(transformed.toarray(), columns=tfidf.get_feature_names())\n",
    "    \n",
    "    relevant = pickle.load(open(\"pickles/relevantwords.pkl\", \"rb\"))\n",
    "    \n",
    "    testset = [tfidf_df[word] for word in relevant if word in tfidf_df.columns]\n",
    "    \n",
    "    return pd.DataFrame(testset).transpose()"
   ]
  },
  {
   "cell_type": "code",
   "execution_count": 25,
   "metadata": {
    "hidden": true
   },
   "outputs": [],
   "source": [
    "x_train = preprocess(x_train)\n",
    "x_test = preprocess(x_test)"
   ]
  },
  {
   "cell_type": "markdown",
   "metadata": {},
   "source": [
    "## 2. Models\n",
    "\n",
    "Testing a bunch of different models to see which works best:\n",
    "\n",
    "1. K Nearest Neighbors\n",
    "2. Decision Tree\n",
    "3. Bagged Trees\n",
    "4. Random Forest\n",
    "5. AdaBoost\n",
    "6. Gradient Boost\n",
    "7. XGBoost\n",
    "8. Support Vector Machine (+ PCA)\n",
    "9. Multinomial Naive Bayes\n"
   ]
  },
  {
   "cell_type": "code",
   "execution_count": 31,
   "metadata": {},
   "outputs": [],
   "source": [
    "def evaluate(model, name):\n",
    "    \n",
    "    output = {'model': name}\n",
    "    start1 = time.time()\n",
    "    model.fit(x_train, y_train)\n",
    "    traintime = time.time() - start1\n",
    "    \n",
    "    # training metrics\n",
    "    \n",
    "    trainpred = model.predict(x_train)\n",
    "    output['train_precision'] = precision_score(y_train, trainpred)\n",
    "    output['train_recall'] = recall_score(y_train, trainpred)\n",
    "    output['train_accuracy'] = accuracy_score(y_train, trainpred)\n",
    "    output['train_f1'] = f1_score(y_train, trainpred)\n",
    "    output['train_time'] = traintime\n",
    "    \n",
    "    # testing metrics\n",
    "    \n",
    "    start2 = time.time()\n",
    "    pred = model.predict(x_test)\n",
    "    testtime = time.time() - start2\n",
    "    \n",
    "    output['test_precision'] = precision_score(y_test, pred)\n",
    "    output['test_recall'] = recall_score(y_test, pred)\n",
    "    output['test_accuracy'] = accuracy_score(y_test, pred)\n",
    "    output['test_f1'] = f1_score(y_test, pred)\n",
    "    output['test_time'] = testtime\n",
    "    \n",
    "    # confusion matrix for test set\n",
    "    \n",
    "    conf = pd.crosstab(y_test, pred)\n",
    "    \n",
    "    return output, conf\n"
   ]
  },
  {
   "cell_type": "markdown",
   "metadata": {
    "heading_collapsed": true
   },
   "source": [
    "### a. K Nearest Neighbors"
   ]
  },
  {
   "cell_type": "code",
   "execution_count": 21,
   "metadata": {
    "hidden": true
   },
   "outputs": [],
   "source": [
    "# find optimal k \n",
    "def find_best_k(X_train, y_train, X_test, y_test, min_k=1, max_k=25):\n",
    "    best_k = 0\n",
    "    best_score = 0.0\n",
    "    for k in range(min_k, max_k+1, 2):\n",
    "        knn = KNeighborsClassifier(n_neighbors=k)\n",
    "        knn.fit(X_train, y_train)\n",
    "        preds = knn.predict(X_test)\n",
    "        f1 = f1_score(y_test, preds)\n",
    "        if f1 > best_score:\n",
    "            best_k = k\n",
    "            best_score = f1\n",
    "    \n",
    "    print(\"Best Value for k: {}\".format(best_k))\n",
    "    print(\"F1-Score: {}\".format(best_score))"
   ]
  },
  {
   "cell_type": "code",
   "execution_count": 26,
   "metadata": {
    "hidden": true
   },
   "outputs": [
    {
     "name": "stdout",
     "output_type": "stream",
     "text": [
      "Best Value for k: 1\n",
      "F1-Score: 0.709277650454121\n"
     ]
    }
   ],
   "source": [
    "find_best_k(x_train, y_train, x_test, y_test)"
   ]
  },
  {
   "cell_type": "code",
   "execution_count": 32,
   "metadata": {
    "hidden": true
   },
   "outputs": [],
   "source": [
    "knn = KNeighborsClassifier(n_neighbors=1)\n",
    "knn_results = evaluate(knn, 'knn')"
   ]
  },
  {
   "cell_type": "code",
   "execution_count": 33,
   "metadata": {
    "hidden": true
   },
   "outputs": [
    {
     "data": {
      "text/plain": [
       "{'model': 'knn',\n",
       " 'train_precision': 1.0,\n",
       " 'train_recall': 1.0,\n",
       " 'train_accuracy': 1.0,\n",
       " 'train_f1': 1.0,\n",
       " 'train_time': 15.505398035049438,\n",
       " 'test_precision': 0.5544055201698513,\n",
       " 'test_recall': 0.9842167255594817,\n",
       " 'test_accuracy': 0.5922619047619048,\n",
       " 'test_f1': 0.709277650454121,\n",
       " 'test_time': 1787.0238852500916}"
      ]
     },
     "execution_count": 33,
     "metadata": {},
     "output_type": "execute_result"
    }
   ],
   "source": [
    "# results\n",
    "\n",
    "knn_results[0]"
   ]
  },
  {
   "cell_type": "code",
   "execution_count": 34,
   "metadata": {
    "hidden": true
   },
   "outputs": [
    {
     "data": {
      "text/html": [
       "<div>\n",
       "<style scoped>\n",
       "    .dataframe tbody tr th:only-of-type {\n",
       "        vertical-align: middle;\n",
       "    }\n",
       "\n",
       "    .dataframe tbody tr th {\n",
       "        vertical-align: top;\n",
       "    }\n",
       "\n",
       "    .dataframe thead th {\n",
       "        text-align: right;\n",
       "    }\n",
       "</style>\n",
       "<table border=\"1\" class=\"dataframe\">\n",
       "  <thead>\n",
       "    <tr style=\"text-align: right;\">\n",
       "      <th>col_0</th>\n",
       "      <th>0</th>\n",
       "      <th>1</th>\n",
       "    </tr>\n",
       "    <tr>\n",
       "      <th>label</th>\n",
       "      <th></th>\n",
       "      <th></th>\n",
       "    </tr>\n",
       "  </thead>\n",
       "  <tbody>\n",
       "    <tr>\n",
       "      <th>0</th>\n",
       "      <td>797</td>\n",
       "      <td>3358</td>\n",
       "    </tr>\n",
       "    <tr>\n",
       "      <th>1</th>\n",
       "      <td>67</td>\n",
       "      <td>4178</td>\n",
       "    </tr>\n",
       "  </tbody>\n",
       "</table>\n",
       "</div>"
      ],
      "text/plain": [
       "col_0    0     1\n",
       "label           \n",
       "0      797  3358\n",
       "1       67  4178"
      ]
     },
     "execution_count": 34,
     "metadata": {},
     "output_type": "execute_result"
    }
   ],
   "source": [
    "# confusion matrix\n",
    "\n",
    "knn_results[1]"
   ]
  },
  {
   "cell_type": "markdown",
   "metadata": {},
   "source": [
    "### b. Trees"
   ]
  },
  {
   "cell_type": "markdown",
   "metadata": {
    "heading_collapsed": true
   },
   "source": [
    "#### Decision Tree"
   ]
  },
  {
   "cell_type": "code",
   "execution_count": 35,
   "metadata": {
    "hidden": true
   },
   "outputs": [],
   "source": [
    "dt = DecisionTreeClassifier()\n",
    "dt_results = evaluate(dt, 'decision_tree')"
   ]
  },
  {
   "cell_type": "code",
   "execution_count": 36,
   "metadata": {
    "hidden": true
   },
   "outputs": [
    {
     "data": {
      "text/plain": [
       "{'model': 'decision_tree',\n",
       " 'train_precision': 1.0,\n",
       " 'train_recall': 1.0,\n",
       " 'train_accuracy': 1.0,\n",
       " 'train_f1': 1.0,\n",
       " 'train_time': 441.2796437740326,\n",
       " 'test_precision': 0.8998357963875205,\n",
       " 'test_recall': 0.9036513545347468,\n",
       " 'test_accuracy': 0.9004761904761904,\n",
       " 'test_f1': 0.9017395392571698,\n",
       " 'test_time': 0.14611506462097168}"
      ]
     },
     "execution_count": 36,
     "metadata": {},
     "output_type": "execute_result"
    }
   ],
   "source": [
    "dt_results[0]"
   ]
  },
  {
   "cell_type": "code",
   "execution_count": 37,
   "metadata": {
    "hidden": true
   },
   "outputs": [
    {
     "data": {
      "text/html": [
       "<div>\n",
       "<style scoped>\n",
       "    .dataframe tbody tr th:only-of-type {\n",
       "        vertical-align: middle;\n",
       "    }\n",
       "\n",
       "    .dataframe tbody tr th {\n",
       "        vertical-align: top;\n",
       "    }\n",
       "\n",
       "    .dataframe thead th {\n",
       "        text-align: right;\n",
       "    }\n",
       "</style>\n",
       "<table border=\"1\" class=\"dataframe\">\n",
       "  <thead>\n",
       "    <tr style=\"text-align: right;\">\n",
       "      <th>col_0</th>\n",
       "      <th>0</th>\n",
       "      <th>1</th>\n",
       "    </tr>\n",
       "    <tr>\n",
       "      <th>label</th>\n",
       "      <th></th>\n",
       "      <th></th>\n",
       "    </tr>\n",
       "  </thead>\n",
       "  <tbody>\n",
       "    <tr>\n",
       "      <th>0</th>\n",
       "      <td>3728</td>\n",
       "      <td>427</td>\n",
       "    </tr>\n",
       "    <tr>\n",
       "      <th>1</th>\n",
       "      <td>409</td>\n",
       "      <td>3836</td>\n",
       "    </tr>\n",
       "  </tbody>\n",
       "</table>\n",
       "</div>"
      ],
      "text/plain": [
       "col_0     0     1\n",
       "label            \n",
       "0      3728   427\n",
       "1       409  3836"
      ]
     },
     "execution_count": 37,
     "metadata": {},
     "output_type": "execute_result"
    }
   ],
   "source": [
    "dt_results[1]"
   ]
  },
  {
   "cell_type": "markdown",
   "metadata": {
    "heading_collapsed": true
   },
   "source": [
    "#### Bagged Trees"
   ]
  },
  {
   "cell_type": "code",
   "execution_count": 38,
   "metadata": {
    "hidden": true
   },
   "outputs": [],
   "source": [
    "bt = BaggingClassifier()\n",
    "bt_results = evaluate(bt, 'bagged_trees')"
   ]
  },
  {
   "cell_type": "code",
   "execution_count": 39,
   "metadata": {
    "hidden": true
   },
   "outputs": [
    {
     "data": {
      "text/plain": [
       "{'model': 'bagged_trees',\n",
       " 'train_precision': 0.9969428126123966,\n",
       " 'train_recall': 0.9925992241122054,\n",
       " 'train_accuracy': 0.9947916666666666,\n",
       " 'train_f1': 0.9947662768789066,\n",
       " 'train_time': 712.2519800662994,\n",
       " 'test_precision': 0.9341978866474544,\n",
       " 'test_recall': 0.9163722025912838,\n",
       " 'test_accuracy': 0.9251190476190476,\n",
       " 'test_f1': 0.9251991913426091,\n",
       " 'test_time': 6.73611307144165}"
      ]
     },
     "execution_count": 39,
     "metadata": {},
     "output_type": "execute_result"
    }
   ],
   "source": [
    "bt_results[0]"
   ]
  },
  {
   "cell_type": "code",
   "execution_count": 40,
   "metadata": {
    "hidden": true
   },
   "outputs": [
    {
     "data": {
      "text/html": [
       "<div>\n",
       "<style scoped>\n",
       "    .dataframe tbody tr th:only-of-type {\n",
       "        vertical-align: middle;\n",
       "    }\n",
       "\n",
       "    .dataframe tbody tr th {\n",
       "        vertical-align: top;\n",
       "    }\n",
       "\n",
       "    .dataframe thead th {\n",
       "        text-align: right;\n",
       "    }\n",
       "</style>\n",
       "<table border=\"1\" class=\"dataframe\">\n",
       "  <thead>\n",
       "    <tr style=\"text-align: right;\">\n",
       "      <th>col_0</th>\n",
       "      <th>0</th>\n",
       "      <th>1</th>\n",
       "    </tr>\n",
       "    <tr>\n",
       "      <th>label</th>\n",
       "      <th></th>\n",
       "      <th></th>\n",
       "    </tr>\n",
       "  </thead>\n",
       "  <tbody>\n",
       "    <tr>\n",
       "      <th>0</th>\n",
       "      <td>3881</td>\n",
       "      <td>274</td>\n",
       "    </tr>\n",
       "    <tr>\n",
       "      <th>1</th>\n",
       "      <td>355</td>\n",
       "      <td>3890</td>\n",
       "    </tr>\n",
       "  </tbody>\n",
       "</table>\n",
       "</div>"
      ],
      "text/plain": [
       "col_0     0     1\n",
       "label            \n",
       "0      3881   274\n",
       "1       355  3890"
      ]
     },
     "execution_count": 40,
     "metadata": {},
     "output_type": "execute_result"
    }
   ],
   "source": [
    "bt_results[1]"
   ]
  },
  {
   "cell_type": "markdown",
   "metadata": {},
   "source": [
    "#### Random Forest"
   ]
  },
  {
   "cell_type": "code",
   "execution_count": 41,
   "metadata": {},
   "outputs": [
    {
     "name": "stderr",
     "output_type": "stream",
     "text": [
      "/Users/yshuenlim/anaconda3/lib/python3.7/site-packages/sklearn/ensemble/forest.py:245: FutureWarning: The default value of n_estimators will change from 10 in version 0.20 to 100 in 0.22.\n",
      "  \"10 in version 0.20 to 100 in 0.22.\", FutureWarning)\n"
     ]
    }
   ],
   "source": [
    "rf = RandomForestClassifier()\n",
    "rf_results = evaluate(rf, 'random_forest')"
   ]
  },
  {
   "cell_type": "code",
   "execution_count": 42,
   "metadata": {},
   "outputs": [
    {
     "data": {
      "text/plain": [
       "{'model': 'random_forest',\n",
       " 'train_precision': 0.9991021727419644,\n",
       " 'train_recall': 0.9962399283795882,\n",
       " 'train_accuracy': 0.9976785714285714,\n",
       " 'train_f1': 0.9976689976689976,\n",
       " 'train_time': 14.12683892250061,\n",
       " 'test_precision': 0.9535968573533022,\n",
       " 'test_recall': 0.9149587750294464,\n",
       " 'test_accuracy': 0.9345238095238095,\n",
       " 'test_f1': 0.9338783361384949,\n",
       " 'test_time': 0.1742258071899414}"
      ]
     },
     "execution_count": 42,
     "metadata": {},
     "output_type": "execute_result"
    }
   ],
   "source": [
    "rf_results[0]"
   ]
  },
  {
   "cell_type": "code",
   "execution_count": 43,
   "metadata": {},
   "outputs": [
    {
     "data": {
      "text/html": [
       "<div>\n",
       "<style scoped>\n",
       "    .dataframe tbody tr th:only-of-type {\n",
       "        vertical-align: middle;\n",
       "    }\n",
       "\n",
       "    .dataframe tbody tr th {\n",
       "        vertical-align: top;\n",
       "    }\n",
       "\n",
       "    .dataframe thead th {\n",
       "        text-align: right;\n",
       "    }\n",
       "</style>\n",
       "<table border=\"1\" class=\"dataframe\">\n",
       "  <thead>\n",
       "    <tr style=\"text-align: right;\">\n",
       "      <th>col_0</th>\n",
       "      <th>0</th>\n",
       "      <th>1</th>\n",
       "    </tr>\n",
       "    <tr>\n",
       "      <th>label</th>\n",
       "      <th></th>\n",
       "      <th></th>\n",
       "    </tr>\n",
       "  </thead>\n",
       "  <tbody>\n",
       "    <tr>\n",
       "      <th>0</th>\n",
       "      <td>3966</td>\n",
       "      <td>189</td>\n",
       "    </tr>\n",
       "    <tr>\n",
       "      <th>1</th>\n",
       "      <td>361</td>\n",
       "      <td>3884</td>\n",
       "    </tr>\n",
       "  </tbody>\n",
       "</table>\n",
       "</div>"
      ],
      "text/plain": [
       "col_0     0     1\n",
       "label            \n",
       "0      3966   189\n",
       "1       361  3884"
      ]
     },
     "execution_count": 43,
     "metadata": {},
     "output_type": "execute_result"
    }
   ],
   "source": [
    "rf_results[1]"
   ]
  },
  {
   "cell_type": "markdown",
   "metadata": {},
   "source": [
    "### c. Boosting"
   ]
  },
  {
   "cell_type": "markdown",
   "metadata": {
    "heading_collapsed": true
   },
   "source": [
    "#### AdaBoost"
   ]
  },
  {
   "cell_type": "code",
   "execution_count": 44,
   "metadata": {
    "hidden": true
   },
   "outputs": [],
   "source": [
    "ada = AdaBoostClassifier()\n",
    "ada_results = evaluate(ada, 'adaboost')"
   ]
  },
  {
   "cell_type": "code",
   "execution_count": 45,
   "metadata": {
    "hidden": true
   },
   "outputs": [
    {
     "data": {
      "text/plain": [
       "{'model': 'adaboost',\n",
       " 'train_precision': 0.9536901107700521,\n",
       " 'train_recall': 0.8529991047448523,\n",
       " 'train_accuracy': 0.9060416666666666,\n",
       " 'train_f1': 0.9005387353895593,\n",
       " 'train_time': 258.65357208251953,\n",
       " 'test_precision': 0.9543426922067699,\n",
       " 'test_recall': 0.8567726737338045,\n",
       " 'test_accuracy': 0.9069047619047619,\n",
       " 'test_f1': 0.9029294935451838,\n",
       " 'test_time': 6.550574779510498}"
      ]
     },
     "execution_count": 45,
     "metadata": {},
     "output_type": "execute_result"
    }
   ],
   "source": [
    "ada_results[0]"
   ]
  },
  {
   "cell_type": "code",
   "execution_count": 46,
   "metadata": {
    "hidden": true
   },
   "outputs": [
    {
     "data": {
      "text/html": [
       "<div>\n",
       "<style scoped>\n",
       "    .dataframe tbody tr th:only-of-type {\n",
       "        vertical-align: middle;\n",
       "    }\n",
       "\n",
       "    .dataframe tbody tr th {\n",
       "        vertical-align: top;\n",
       "    }\n",
       "\n",
       "    .dataframe thead th {\n",
       "        text-align: right;\n",
       "    }\n",
       "</style>\n",
       "<table border=\"1\" class=\"dataframe\">\n",
       "  <thead>\n",
       "    <tr style=\"text-align: right;\">\n",
       "      <th>col_0</th>\n",
       "      <th>0</th>\n",
       "      <th>1</th>\n",
       "    </tr>\n",
       "    <tr>\n",
       "      <th>label</th>\n",
       "      <th></th>\n",
       "      <th></th>\n",
       "    </tr>\n",
       "  </thead>\n",
       "  <tbody>\n",
       "    <tr>\n",
       "      <th>0</th>\n",
       "      <td>3981</td>\n",
       "      <td>174</td>\n",
       "    </tr>\n",
       "    <tr>\n",
       "      <th>1</th>\n",
       "      <td>608</td>\n",
       "      <td>3637</td>\n",
       "    </tr>\n",
       "  </tbody>\n",
       "</table>\n",
       "</div>"
      ],
      "text/plain": [
       "col_0     0     1\n",
       "label            \n",
       "0      3981   174\n",
       "1       608  3637"
      ]
     },
     "execution_count": 46,
     "metadata": {},
     "output_type": "execute_result"
    }
   ],
   "source": [
    "ada_results[1]"
   ]
  },
  {
   "cell_type": "markdown",
   "metadata": {
    "heading_collapsed": true
   },
   "source": [
    "#### Gradient Boosting"
   ]
  },
  {
   "cell_type": "code",
   "execution_count": 47,
   "metadata": {
    "hidden": true
   },
   "outputs": [],
   "source": [
    "gb = GradientBoostingClassifier()\n",
    "gb_results = evaluate(gb, 'gradient_boosting')"
   ]
  },
  {
   "cell_type": "code",
   "execution_count": 48,
   "metadata": {
    "hidden": true
   },
   "outputs": [
    {
     "data": {
      "text/plain": [
       "{'model': 'gradient_boosting',\n",
       " 'train_precision': 0.968716719914803,\n",
       " 'train_recall': 0.8686362279916443,\n",
       " 'train_accuracy': 0.9205059523809523,\n",
       " 'train_f1': 0.9159507851096637,\n",
       " 'train_time': 1091.8649680614471,\n",
       " 'test_precision': 0.9648478488982162,\n",
       " 'test_recall': 0.8664310954063604,\n",
       " 'test_accuracy': 0.916547619047619,\n",
       " 'test_f1': 0.9129949112572918,\n",
       " 'test_time': 0.1918017864227295}"
      ]
     },
     "execution_count": 48,
     "metadata": {},
     "output_type": "execute_result"
    }
   ],
   "source": [
    "gb_results[0]"
   ]
  },
  {
   "cell_type": "code",
   "execution_count": 49,
   "metadata": {
    "hidden": true
   },
   "outputs": [
    {
     "data": {
      "text/html": [
       "<div>\n",
       "<style scoped>\n",
       "    .dataframe tbody tr th:only-of-type {\n",
       "        vertical-align: middle;\n",
       "    }\n",
       "\n",
       "    .dataframe tbody tr th {\n",
       "        vertical-align: top;\n",
       "    }\n",
       "\n",
       "    .dataframe thead th {\n",
       "        text-align: right;\n",
       "    }\n",
       "</style>\n",
       "<table border=\"1\" class=\"dataframe\">\n",
       "  <thead>\n",
       "    <tr style=\"text-align: right;\">\n",
       "      <th>col_0</th>\n",
       "      <th>0</th>\n",
       "      <th>1</th>\n",
       "    </tr>\n",
       "    <tr>\n",
       "      <th>label</th>\n",
       "      <th></th>\n",
       "      <th></th>\n",
       "    </tr>\n",
       "  </thead>\n",
       "  <tbody>\n",
       "    <tr>\n",
       "      <th>0</th>\n",
       "      <td>4021</td>\n",
       "      <td>134</td>\n",
       "    </tr>\n",
       "    <tr>\n",
       "      <th>1</th>\n",
       "      <td>567</td>\n",
       "      <td>3678</td>\n",
       "    </tr>\n",
       "  </tbody>\n",
       "</table>\n",
       "</div>"
      ],
      "text/plain": [
       "col_0     0     1\n",
       "label            \n",
       "0      4021   134\n",
       "1       567  3678"
      ]
     },
     "execution_count": 49,
     "metadata": {},
     "output_type": "execute_result"
    }
   ],
   "source": [
    "gb_results[1]"
   ]
  },
  {
   "cell_type": "markdown",
   "metadata": {},
   "source": [
    "#### XGBoost"
   ]
  },
  {
   "cell_type": "code",
   "execution_count": 80,
   "metadata": {},
   "outputs": [
    {
     "name": "stderr",
     "output_type": "stream",
     "text": [
      "/Users/yshuenlim/anaconda3/lib/python3.7/site-packages/xgboost/core.py:587: FutureWarning: Series.base is deprecated and will be removed in a future version\n",
      "  if getattr(data, 'base', None) is not None and \\\n"
     ]
    }
   ],
   "source": [
    "D_train = xgb.DMatrix(x_train, label=y_train)\n",
    "D_test = xgb.DMatrix(x_test, label=y_test)"
   ]
  },
  {
   "cell_type": "code",
   "execution_count": 81,
   "metadata": {},
   "outputs": [],
   "source": [
    "param = {\n",
    "    'eta': 0.3, \n",
    "    'max_depth': 3,  \n",
    "    'objective': 'multi:softprob',  \n",
    "    'num_class': 3} \n",
    "\n",
    "steps = 20"
   ]
  },
  {
   "cell_type": "code",
   "execution_count": 93,
   "metadata": {},
   "outputs": [],
   "source": [
    "def evaluateXGB(model, name, train, test):\n",
    "    \n",
    "    output = {'model': name}\n",
    "    start1 = time.time()\n",
    "    model = xgb.train(param, train, steps)\n",
    "    traintime = time.time() - start1\n",
    "    \n",
    "    # training metrics\n",
    "    \n",
    "    trainpred = model.predict(D_train)\n",
    "    trainpreds = np.asarray([np.argmax(line) for line in trainpred])\n",
    "    \n",
    "    output['train_precision'] = precision_score(y_train, trainpreds)\n",
    "    output['train_recall'] = recall_score(y_train, trainpreds)\n",
    "    output['train_accuracy'] = accuracy_score(y_train, trainpreds)\n",
    "    output['train_f1'] = f1_score(y_train, trainpreds)\n",
    "    output['train_time'] = traintime\n",
    "    \n",
    "    # testing metrics\n",
    "    \n",
    "    start2 = time.time()\n",
    "    testpred = model.predict(D_test)\n",
    "    pred = np.asarray([np.argmax(line) for line in testpred])\n",
    "    testtime = time.time() - start2\n",
    "    \n",
    "    output['test_precision'] = precision_score(y_test, pred)\n",
    "    output['test_recall'] = recall_score(y_test, pred)\n",
    "    output['test_accuracy'] = accuracy_score(y_test, pred)\n",
    "    output['test_f1'] = f1_score(y_test, pred)\n",
    "    output['test_time'] = testtime\n",
    "    \n",
    "    # confusion matrix for test set\n",
    "    \n",
    "    conf = pd.crosstab(y_test, pred)\n",
    "    \n",
    "    return output, conf"
   ]
  },
  {
   "cell_type": "code",
   "execution_count": 94,
   "metadata": {},
   "outputs": [],
   "source": [
    "xgb_results = evaluateXGB(xgb, 'xgboost', D_train, D_test)"
   ]
  },
  {
   "cell_type": "code",
   "execution_count": 95,
   "metadata": {},
   "outputs": [
    {
     "data": {
      "text/plain": [
       "{'model': 'xgboost',\n",
       " 'train_precision': 0.9594844773568784,\n",
       " 'train_recall': 0.8042375410325276,\n",
       " 'train_accuracy': 0.8854464285714285,\n",
       " 'train_f1': 0.8750284100133122,\n",
       " 'train_time': 234.82280683517456,\n",
       " 'test_precision': 0.9548369110677446,\n",
       " 'test_recall': 0.806831566548881,\n",
       " 'test_accuracy': 0.883095238095238,\n",
       " 'test_f1': 0.8746169560776301,\n",
       " 'test_time': 1.2996101379394531}"
      ]
     },
     "execution_count": 95,
     "metadata": {},
     "output_type": "execute_result"
    }
   ],
   "source": [
    "xgb_results[0]"
   ]
  },
  {
   "cell_type": "code",
   "execution_count": 96,
   "metadata": {},
   "outputs": [
    {
     "data": {
      "text/html": [
       "<div>\n",
       "<style scoped>\n",
       "    .dataframe tbody tr th:only-of-type {\n",
       "        vertical-align: middle;\n",
       "    }\n",
       "\n",
       "    .dataframe tbody tr th {\n",
       "        vertical-align: top;\n",
       "    }\n",
       "\n",
       "    .dataframe thead th {\n",
       "        text-align: right;\n",
       "    }\n",
       "</style>\n",
       "<table border=\"1\" class=\"dataframe\">\n",
       "  <thead>\n",
       "    <tr style=\"text-align: right;\">\n",
       "      <th>col_0</th>\n",
       "      <th>0</th>\n",
       "      <th>1</th>\n",
       "    </tr>\n",
       "    <tr>\n",
       "      <th>label</th>\n",
       "      <th></th>\n",
       "      <th></th>\n",
       "    </tr>\n",
       "  </thead>\n",
       "  <tbody>\n",
       "    <tr>\n",
       "      <th>0</th>\n",
       "      <td>3993</td>\n",
       "      <td>162</td>\n",
       "    </tr>\n",
       "    <tr>\n",
       "      <th>1</th>\n",
       "      <td>820</td>\n",
       "      <td>3425</td>\n",
       "    </tr>\n",
       "  </tbody>\n",
       "</table>\n",
       "</div>"
      ],
      "text/plain": [
       "col_0     0     1\n",
       "label            \n",
       "0      3993   162\n",
       "1       820  3425"
      ]
     },
     "execution_count": 96,
     "metadata": {},
     "output_type": "execute_result"
    }
   ],
   "source": [
    "xgb_results[1]"
   ]
  },
  {
   "cell_type": "markdown",
   "metadata": {
    "heading_collapsed": true
   },
   "source": [
    "### d. Support Vector Machine"
   ]
  },
  {
   "cell_type": "code",
   "execution_count": 50,
   "metadata": {
    "hidden": true
   },
   "outputs": [],
   "source": [
    "pca = PCA(n_components=50)\n",
    "pca.fit(x_train)\n",
    "pca50_train = pca.transform(x_train)\n",
    "pca50_test = pca.transform(x_test)"
   ]
  },
  {
   "cell_type": "code",
   "execution_count": 57,
   "metadata": {
    "hidden": true
   },
   "outputs": [],
   "source": [
    "def evaluatePCA(model, name, x_train, x_test, y_train, y_test):\n",
    "    \n",
    "    output = {'model': name}\n",
    "    start1 = time.time()\n",
    "    model.fit(x_train, y_train)\n",
    "    traintime = time.time() - start1\n",
    "    \n",
    "    # training metrics\n",
    "    \n",
    "    trainpred = model.predict(x_train)\n",
    "    output['train_precision'] = precision_score(y_train, trainpred)\n",
    "    output['train_recall'] = recall_score(y_train, trainpred)\n",
    "    output['train_accuracy'] = accuracy_score(y_train, trainpred)\n",
    "    output['train_f1'] = f1_score(y_train, trainpred)\n",
    "    output['train_time'] = traintime\n",
    "    \n",
    "    # testing metrics\n",
    "    \n",
    "    start2 = time.time()\n",
    "    pred = model.predict(x_test)\n",
    "    testtime = time.time() - start2\n",
    "    \n",
    "    output['test_precision'] = precision_score(y_test, pred)\n",
    "    output['test_recall'] = recall_score(y_test, pred)\n",
    "    output['test_accuracy'] = accuracy_score(y_test, pred)\n",
    "    output['test_f1'] = f1_score(y_test, pred)\n",
    "    output['test_time'] = testtime\n",
    "    \n",
    "    # confusion matrix for test set\n",
    "    \n",
    "    conf = pd.crosstab(y_test, pred)\n",
    "    \n",
    "    return output, conf"
   ]
  },
  {
   "cell_type": "code",
   "execution_count": 74,
   "metadata": {
    "hidden": true
   },
   "outputs": [],
   "source": [
    "svm_results = evaluatePCA(svm, \"svm50\", pca50_train, pca50_test, y_train, y_test)"
   ]
  },
  {
   "cell_type": "code",
   "execution_count": 75,
   "metadata": {
    "hidden": true
   },
   "outputs": [
    {
     "data": {
      "text/plain": [
       "{'model': 'svm50',\n",
       " 'train_precision': 0.9683286296644716,\n",
       " 'train_recall': 0.9215159653834676,\n",
       " 'train_accuracy': 0.9458333333333333,\n",
       " 'train_f1': 0.94434250764526,\n",
       " 'train_time': 69.82057690620422,\n",
       " 'test_precision': 0.9715994020926756,\n",
       " 'test_recall': 0.9187279151943463,\n",
       " 'test_accuracy': 0.9453571428571429,\n",
       " 'test_f1': 0.944424264438794,\n",
       " 'test_time': 4.882258892059326}"
      ]
     },
     "execution_count": 75,
     "metadata": {},
     "output_type": "execute_result"
    }
   ],
   "source": [
    "svm_results[0]"
   ]
  },
  {
   "cell_type": "code",
   "execution_count": 76,
   "metadata": {
    "hidden": true
   },
   "outputs": [
    {
     "data": {
      "text/html": [
       "<div>\n",
       "<style scoped>\n",
       "    .dataframe tbody tr th:only-of-type {\n",
       "        vertical-align: middle;\n",
       "    }\n",
       "\n",
       "    .dataframe tbody tr th {\n",
       "        vertical-align: top;\n",
       "    }\n",
       "\n",
       "    .dataframe thead th {\n",
       "        text-align: right;\n",
       "    }\n",
       "</style>\n",
       "<table border=\"1\" class=\"dataframe\">\n",
       "  <thead>\n",
       "    <tr style=\"text-align: right;\">\n",
       "      <th>col_0</th>\n",
       "      <th>0</th>\n",
       "      <th>1</th>\n",
       "    </tr>\n",
       "    <tr>\n",
       "      <th>label</th>\n",
       "      <th></th>\n",
       "      <th></th>\n",
       "    </tr>\n",
       "  </thead>\n",
       "  <tbody>\n",
       "    <tr>\n",
       "      <th>0</th>\n",
       "      <td>4041</td>\n",
       "      <td>114</td>\n",
       "    </tr>\n",
       "    <tr>\n",
       "      <th>1</th>\n",
       "      <td>345</td>\n",
       "      <td>3900</td>\n",
       "    </tr>\n",
       "  </tbody>\n",
       "</table>\n",
       "</div>"
      ],
      "text/plain": [
       "col_0     0     1\n",
       "label            \n",
       "0      4041   114\n",
       "1       345  3900"
      ]
     },
     "execution_count": 76,
     "metadata": {},
     "output_type": "execute_result"
    }
   ],
   "source": [
    "svm_results[1]"
   ]
  },
  {
   "cell_type": "markdown",
   "metadata": {
    "heading_collapsed": true
   },
   "source": [
    "### e. Naive Bayes"
   ]
  },
  {
   "cell_type": "code",
   "execution_count": 51,
   "metadata": {
    "hidden": true
   },
   "outputs": [],
   "source": [
    "mnb = MultinomialNB()\n",
    "mnb_results = evaluate(mnb, 'naive_bayes')"
   ]
  },
  {
   "cell_type": "code",
   "execution_count": 52,
   "metadata": {
    "hidden": true
   },
   "outputs": [
    {
     "data": {
      "text/plain": [
       "{'model': 'naive_bayes',\n",
       " 'train_precision': 0.9717605004468275,\n",
       " 'train_recall': 0.9735004476275738,\n",
       " 'train_accuracy': 0.9726785714285714,\n",
       " 'train_f1': 0.9726296958855097,\n",
       " 'train_time': 0.363353967666626,\n",
       " 'test_precision': 0.9729408972228816,\n",
       " 'test_recall': 0.9656065959952885,\n",
       " 'test_accuracy': 0.969047619047619,\n",
       " 'test_f1': 0.9692598723102388,\n",
       " 'test_time': 0.038023948669433594}"
      ]
     },
     "execution_count": 52,
     "metadata": {},
     "output_type": "execute_result"
    }
   ],
   "source": [
    "mnb_results[0]"
   ]
  },
  {
   "cell_type": "code",
   "execution_count": 53,
   "metadata": {
    "hidden": true
   },
   "outputs": [
    {
     "data": {
      "text/html": [
       "<div>\n",
       "<style scoped>\n",
       "    .dataframe tbody tr th:only-of-type {\n",
       "        vertical-align: middle;\n",
       "    }\n",
       "\n",
       "    .dataframe tbody tr th {\n",
       "        vertical-align: top;\n",
       "    }\n",
       "\n",
       "    .dataframe thead th {\n",
       "        text-align: right;\n",
       "    }\n",
       "</style>\n",
       "<table border=\"1\" class=\"dataframe\">\n",
       "  <thead>\n",
       "    <tr style=\"text-align: right;\">\n",
       "      <th>col_0</th>\n",
       "      <th>0</th>\n",
       "      <th>1</th>\n",
       "    </tr>\n",
       "    <tr>\n",
       "      <th>label</th>\n",
       "      <th></th>\n",
       "      <th></th>\n",
       "    </tr>\n",
       "  </thead>\n",
       "  <tbody>\n",
       "    <tr>\n",
       "      <th>0</th>\n",
       "      <td>4041</td>\n",
       "      <td>114</td>\n",
       "    </tr>\n",
       "    <tr>\n",
       "      <th>1</th>\n",
       "      <td>146</td>\n",
       "      <td>4099</td>\n",
       "    </tr>\n",
       "  </tbody>\n",
       "</table>\n",
       "</div>"
      ],
      "text/plain": [
       "col_0     0     1\n",
       "label            \n",
       "0      4041   114\n",
       "1       146  4099"
      ]
     },
     "execution_count": 53,
     "metadata": {},
     "output_type": "execute_result"
    }
   ],
   "source": [
    "mnb_results[1]"
   ]
  },
  {
   "cell_type": "markdown",
   "metadata": {},
   "source": [
    "### Results Summary"
   ]
  },
  {
   "cell_type": "code",
   "execution_count": 97,
   "metadata": {},
   "outputs": [],
   "source": [
    "result_dicts = [knn_results, dt_results, bt_results, \n",
    "                rf_results, ada_results, gb_results,\n",
    "                xgb_results, svm_results, mnb_results]\n",
    "results = pd.DataFrame([i[0] for i in result_dicts])"
   ]
  },
  {
   "cell_type": "code",
   "execution_count": 98,
   "metadata": {},
   "outputs": [
    {
     "data": {
      "text/html": [
       "<div>\n",
       "<style scoped>\n",
       "    .dataframe tbody tr th:only-of-type {\n",
       "        vertical-align: middle;\n",
       "    }\n",
       "\n",
       "    .dataframe tbody tr th {\n",
       "        vertical-align: top;\n",
       "    }\n",
       "\n",
       "    .dataframe thead th {\n",
       "        text-align: right;\n",
       "    }\n",
       "</style>\n",
       "<table border=\"1\" class=\"dataframe\">\n",
       "  <thead>\n",
       "    <tr style=\"text-align: right;\">\n",
       "      <th></th>\n",
       "      <th>model</th>\n",
       "      <th>test_accuracy</th>\n",
       "      <th>test_f1</th>\n",
       "      <th>test_precision</th>\n",
       "      <th>test_recall</th>\n",
       "      <th>test_time</th>\n",
       "      <th>train_accuracy</th>\n",
       "      <th>train_f1</th>\n",
       "      <th>train_precision</th>\n",
       "      <th>train_recall</th>\n",
       "      <th>train_time</th>\n",
       "    </tr>\n",
       "  </thead>\n",
       "  <tbody>\n",
       "    <tr>\n",
       "      <th>0</th>\n",
       "      <td>knn</td>\n",
       "      <td>0.592262</td>\n",
       "      <td>0.709278</td>\n",
       "      <td>0.554406</td>\n",
       "      <td>0.984217</td>\n",
       "      <td>1787.023885</td>\n",
       "      <td>1.000000</td>\n",
       "      <td>1.000000</td>\n",
       "      <td>1.000000</td>\n",
       "      <td>1.000000</td>\n",
       "      <td>15.505398</td>\n",
       "    </tr>\n",
       "    <tr>\n",
       "      <th>1</th>\n",
       "      <td>decision_tree</td>\n",
       "      <td>0.900476</td>\n",
       "      <td>0.901740</td>\n",
       "      <td>0.899836</td>\n",
       "      <td>0.903651</td>\n",
       "      <td>0.146115</td>\n",
       "      <td>1.000000</td>\n",
       "      <td>1.000000</td>\n",
       "      <td>1.000000</td>\n",
       "      <td>1.000000</td>\n",
       "      <td>441.279644</td>\n",
       "    </tr>\n",
       "    <tr>\n",
       "      <th>2</th>\n",
       "      <td>bagged_trees</td>\n",
       "      <td>0.925119</td>\n",
       "      <td>0.925199</td>\n",
       "      <td>0.934198</td>\n",
       "      <td>0.916372</td>\n",
       "      <td>6.736113</td>\n",
       "      <td>0.994792</td>\n",
       "      <td>0.994766</td>\n",
       "      <td>0.996943</td>\n",
       "      <td>0.992599</td>\n",
       "      <td>712.251980</td>\n",
       "    </tr>\n",
       "    <tr>\n",
       "      <th>3</th>\n",
       "      <td>random_forest</td>\n",
       "      <td>0.934524</td>\n",
       "      <td>0.933878</td>\n",
       "      <td>0.953597</td>\n",
       "      <td>0.914959</td>\n",
       "      <td>0.174226</td>\n",
       "      <td>0.997679</td>\n",
       "      <td>0.997669</td>\n",
       "      <td>0.999102</td>\n",
       "      <td>0.996240</td>\n",
       "      <td>14.126839</td>\n",
       "    </tr>\n",
       "    <tr>\n",
       "      <th>4</th>\n",
       "      <td>adaboost</td>\n",
       "      <td>0.906905</td>\n",
       "      <td>0.902929</td>\n",
       "      <td>0.954343</td>\n",
       "      <td>0.856773</td>\n",
       "      <td>6.550575</td>\n",
       "      <td>0.906042</td>\n",
       "      <td>0.900539</td>\n",
       "      <td>0.953690</td>\n",
       "      <td>0.852999</td>\n",
       "      <td>258.653572</td>\n",
       "    </tr>\n",
       "    <tr>\n",
       "      <th>5</th>\n",
       "      <td>gradient_boosting</td>\n",
       "      <td>0.916548</td>\n",
       "      <td>0.912995</td>\n",
       "      <td>0.964848</td>\n",
       "      <td>0.866431</td>\n",
       "      <td>0.191802</td>\n",
       "      <td>0.920506</td>\n",
       "      <td>0.915951</td>\n",
       "      <td>0.968717</td>\n",
       "      <td>0.868636</td>\n",
       "      <td>1091.864968</td>\n",
       "    </tr>\n",
       "    <tr>\n",
       "      <th>6</th>\n",
       "      <td>xgboost</td>\n",
       "      <td>0.883095</td>\n",
       "      <td>0.874617</td>\n",
       "      <td>0.954837</td>\n",
       "      <td>0.806832</td>\n",
       "      <td>1.299610</td>\n",
       "      <td>0.885446</td>\n",
       "      <td>0.875028</td>\n",
       "      <td>0.959484</td>\n",
       "      <td>0.804238</td>\n",
       "      <td>234.822807</td>\n",
       "    </tr>\n",
       "    <tr>\n",
       "      <th>7</th>\n",
       "      <td>svm50</td>\n",
       "      <td>0.945357</td>\n",
       "      <td>0.944424</td>\n",
       "      <td>0.971599</td>\n",
       "      <td>0.918728</td>\n",
       "      <td>4.882259</td>\n",
       "      <td>0.945833</td>\n",
       "      <td>0.944343</td>\n",
       "      <td>0.968329</td>\n",
       "      <td>0.921516</td>\n",
       "      <td>69.820577</td>\n",
       "    </tr>\n",
       "    <tr>\n",
       "      <th>8</th>\n",
       "      <td>naive_bayes</td>\n",
       "      <td>0.969048</td>\n",
       "      <td>0.969260</td>\n",
       "      <td>0.972941</td>\n",
       "      <td>0.965607</td>\n",
       "      <td>0.038024</td>\n",
       "      <td>0.972679</td>\n",
       "      <td>0.972630</td>\n",
       "      <td>0.971761</td>\n",
       "      <td>0.973500</td>\n",
       "      <td>0.363354</td>\n",
       "    </tr>\n",
       "  </tbody>\n",
       "</table>\n",
       "</div>"
      ],
      "text/plain": [
       "               model  test_accuracy   test_f1  test_precision  test_recall  \\\n",
       "0                knn       0.592262  0.709278        0.554406     0.984217   \n",
       "1      decision_tree       0.900476  0.901740        0.899836     0.903651   \n",
       "2       bagged_trees       0.925119  0.925199        0.934198     0.916372   \n",
       "3      random_forest       0.934524  0.933878        0.953597     0.914959   \n",
       "4           adaboost       0.906905  0.902929        0.954343     0.856773   \n",
       "5  gradient_boosting       0.916548  0.912995        0.964848     0.866431   \n",
       "6            xgboost       0.883095  0.874617        0.954837     0.806832   \n",
       "7              svm50       0.945357  0.944424        0.971599     0.918728   \n",
       "8        naive_bayes       0.969048  0.969260        0.972941     0.965607   \n",
       "\n",
       "     test_time  train_accuracy  train_f1  train_precision  train_recall  \\\n",
       "0  1787.023885        1.000000  1.000000         1.000000      1.000000   \n",
       "1     0.146115        1.000000  1.000000         1.000000      1.000000   \n",
       "2     6.736113        0.994792  0.994766         0.996943      0.992599   \n",
       "3     0.174226        0.997679  0.997669         0.999102      0.996240   \n",
       "4     6.550575        0.906042  0.900539         0.953690      0.852999   \n",
       "5     0.191802        0.920506  0.915951         0.968717      0.868636   \n",
       "6     1.299610        0.885446  0.875028         0.959484      0.804238   \n",
       "7     4.882259        0.945833  0.944343         0.968329      0.921516   \n",
       "8     0.038024        0.972679  0.972630         0.971761      0.973500   \n",
       "\n",
       "    train_time  \n",
       "0    15.505398  \n",
       "1   441.279644  \n",
       "2   712.251980  \n",
       "3    14.126839  \n",
       "4   258.653572  \n",
       "5  1091.864968  \n",
       "6   234.822807  \n",
       "7    69.820577  \n",
       "8     0.363354  "
      ]
     },
     "execution_count": 98,
     "metadata": {},
     "output_type": "execute_result"
    }
   ],
   "source": [
    "results"
   ]
  },
  {
   "cell_type": "code",
   "execution_count": null,
   "metadata": {},
   "outputs": [],
   "source": [
    "# looking at metrics, we decide on the Multinomial Naive Bayes model."
   ]
  }
 ],
 "metadata": {
  "kernelspec": {
   "display_name": "Python 3",
   "language": "python",
   "name": "python3"
  },
  "language_info": {
   "codemirror_mode": {
    "name": "ipython",
    "version": 3
   },
   "file_extension": ".py",
   "mimetype": "text/x-python",
   "name": "python",
   "nbconvert_exporter": "python",
   "pygments_lexer": "ipython3",
   "version": "3.7.2"
  },
  "toc": {
   "base_numbering": 1,
   "nav_menu": {},
   "number_sections": false,
   "sideBar": true,
   "skip_h1_title": false,
   "title_cell": "Table of Contents",
   "title_sidebar": "Contents",
   "toc_cell": false,
   "toc_position": {},
   "toc_section_display": true,
   "toc_window_display": false
  }
 },
 "nbformat": 4,
 "nbformat_minor": 2
}
