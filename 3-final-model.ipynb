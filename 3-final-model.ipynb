{
 "cells": [
  {
   "cell_type": "markdown",
   "metadata": {},
   "source": [
    "# Reddit Post Classifier"
   ]
  },
  {
   "cell_type": "code",
   "execution_count": 1,
   "metadata": {},
   "outputs": [],
   "source": [
    "import pandas as pd\n",
    "import pickle\n",
    "from sklearn.model_selection import train_test_split\n",
    "\n",
    "from sklearn.feature_extraction.text import TfidfVectorizer\n",
    "\n",
    "import nltk\n",
    "from nltk.corpus import stopwords\n",
    "from nltk.stem import WordNetLemmatizer\n",
    "wordnet_lemmatizer = WordNetLemmatizer()\n",
    "english = set(nltk.corpus.words.words())\n",
    "\n",
    "from sklearn.naive_bayes import MultinomialNB\n",
    "from sklearn.metrics import precision_score, recall_score, accuracy_score, f1_score"
   ]
  },
  {
   "cell_type": "markdown",
   "metadata": {},
   "source": [
    "## Data Grab + TTS"
   ]
  },
  {
   "cell_type": "code",
   "execution_count": 2,
   "metadata": {},
   "outputs": [],
   "source": [
    "x = pd.read_csv('data/lemmatized.csv')['0']"
   ]
  },
  {
   "cell_type": "code",
   "execution_count": 3,
   "metadata": {},
   "outputs": [],
   "source": [
    "posts = pd.read_csv('data/arts-programming-reddit-posts.csv')\n",
    "y = posts.label"
   ]
  },
  {
   "cell_type": "code",
   "execution_count": 4,
   "metadata": {},
   "outputs": [],
   "source": [
    "x_train, x_test, y_train, y_test = train_test_split(x, y, test_size = 0.2)"
   ]
  },
  {
   "cell_type": "code",
   "execution_count": 5,
   "metadata": {},
   "outputs": [
    {
     "data": {
      "text/plain": [
       "(8400,)"
      ]
     },
     "execution_count": 5,
     "metadata": {},
     "output_type": "execute_result"
    }
   ],
   "source": [
    "x_test.shape"
   ]
  },
  {
   "cell_type": "markdown",
   "metadata": {},
   "source": [
    "## Preprocessing Pipeline"
   ]
  },
  {
   "cell_type": "code",
   "execution_count": 6,
   "metadata": {},
   "outputs": [],
   "source": [
    "# 1. tfidf vectorizer\n",
    "\n",
    "tfidf = TfidfVectorizer()\n",
    "response = tfidf.fit_transform(x_train)\n",
    "tfidf_df = pd.DataFrame(response.toarray(), columns=tfidf.get_feature_names())\n",
    "\n",
    "# pickle this\n",
    "pickle.dump(tfidf, open(\"pickles/tfidf.pkl\", \"wb\"))"
   ]
  },
  {
   "cell_type": "code",
   "execution_count": 7,
   "metadata": {},
   "outputs": [
    {
     "data": {
      "text/plain": [
       "4885"
      ]
     },
     "execution_count": 7,
     "metadata": {},
     "output_type": "execute_result"
    }
   ],
   "source": [
    "# only keep words w average tfidf scores over 0.0001\n",
    "\n",
    "relevant = []\n",
    "for word in tfidf_df.columns:\n",
    "    if tfidf_df[word].mean() > 0.0001:\n",
    "        relevant.append(tfidf_df[word])\n",
    "len(relevant)"
   ]
  },
  {
   "cell_type": "code",
   "execution_count": 8,
   "metadata": {},
   "outputs": [],
   "source": [
    "relevant_df = pd.DataFrame(relevant).transpose()\n",
    "\n",
    "pickle.dump(relevant_df.columns, open(\"pickles/relevantwords.pkl\", \"wb\"))"
   ]
  },
  {
   "cell_type": "code",
   "execution_count": 9,
   "metadata": {},
   "outputs": [],
   "source": [
    "def preprocess(data):\n",
    "    \n",
    "    # lemmatize\n",
    "    def lemmadata(doc):\n",
    "        pattern = \"([a-zA-Z]+(?:'[a-z]+)?)\"\n",
    "        raw_tokens = nltk.regexp_tokenize(doc, pattern)\n",
    "        tokens = [i.lower() for i in raw_tokens]\n",
    "        stop_words = set(stopwords.words('english'))\n",
    "        listed = [w for w in tokens if not w in stop_words]\n",
    "        lemmatized = [wordnet_lemmatizer.lemmatize(word, pos=\"v\") for word in listed]\n",
    "        lemmatized = list(filter(lambda w: w != 'lb', lemmatized))\n",
    "        words = list(filter(lambda w: w in english, lemmatized))\n",
    "        return \" \".join(words)\n",
    "    \n",
    "    lemmatized = [lemmadata(post) for post in data]\n",
    "    \n",
    "    tfidf = pickle.load(open(\"pickles/tfidf.pkl\", \"rb\"))\n",
    "    \n",
    "    transformed = tfidf.transform(lemmatized)\n",
    "    tfidf_df = pd.DataFrame(transformed.toarray(), columns=tfidf.get_feature_names())\n",
    "    \n",
    "    relevant = pickle.load(open(\"pickles/relevantwords.pkl\", \"rb\"))\n",
    "    \n",
    "    testset = [tfidf_df[word] for word in relevant if word in tfidf_df.columns]\n",
    "    \n",
    "    return pd.DataFrame(testset).transpose()"
   ]
  },
  {
   "cell_type": "markdown",
   "metadata": {},
   "source": [
    "## Model"
   ]
  },
  {
   "cell_type": "code",
   "execution_count": 20,
   "metadata": {},
   "outputs": [],
   "source": [
    "mnb = MultinomialNB()\n",
    "mnb.fit(relevant_df, y_train)\n",
    "pickle.dump(mnb, open('pickles/mnb.pkl', 'wb'))"
   ]
  },
  {
   "cell_type": "code",
   "execution_count": 21,
   "metadata": {},
   "outputs": [],
   "source": [
    "def print_metrics(labels, preds):\n",
    "    print(\"Precision Score: {}\".format(precision_score(labels, preds)))\n",
    "    print(\"Recall Score: {}\".format(recall_score(labels, preds)))\n",
    "    print(\"Accuracy Score: {}\".format(accuracy_score(labels, preds)))\n",
    "    print(\"F1 Score: {}\".format(f1_score(labels, preds)))"
   ]
  },
  {
   "cell_type": "code",
   "execution_count": 22,
   "metadata": {},
   "outputs": [],
   "source": [
    "test = preprocess(x_test)"
   ]
  },
  {
   "cell_type": "code",
   "execution_count": 23,
   "metadata": {},
   "outputs": [
    {
     "name": "stdout",
     "output_type": "stream",
     "text": [
      "Precision Score: 0.9689737470167065\n",
      "Recall Score: 0.9668968802095738\n",
      "Accuracy Score: 0.9679761904761904\n",
      "F1 Score: 0.9679341995470259\n"
     ]
    }
   ],
   "source": [
    "mnb_pred = mnb.predict(test)\n",
    "print_metrics(y_test, mnb_pred)"
   ]
  },
  {
   "cell_type": "code",
   "execution_count": 24,
   "metadata": {},
   "outputs": [],
   "source": [
    "def classify_text(text):\n",
    "    listtext = [text]\n",
    "    processed = preprocess(listtext)\n",
    "    return mnb.predict(processed)\n",
    "    "
   ]
  },
  {
   "cell_type": "code",
   "execution_count": null,
   "metadata": {},
   "outputs": [],
   "source": []
  }
 ],
 "metadata": {
  "kernelspec": {
   "display_name": "Python 3",
   "language": "python",
   "name": "python3"
  },
  "language_info": {
   "codemirror_mode": {
    "name": "ipython",
    "version": 3
   },
   "file_extension": ".py",
   "mimetype": "text/x-python",
   "name": "python",
   "nbconvert_exporter": "python",
   "pygments_lexer": "ipython3",
   "version": "3.7.2"
  },
  "toc": {
   "base_numbering": 1,
   "nav_menu": {},
   "number_sections": false,
   "sideBar": true,
   "skip_h1_title": false,
   "title_cell": "Table of Contents",
   "title_sidebar": "Contents",
   "toc_cell": false,
   "toc_position": {},
   "toc_section_display": true,
   "toc_window_display": false
  }
 },
 "nbformat": 4,
 "nbformat_minor": 2
}
